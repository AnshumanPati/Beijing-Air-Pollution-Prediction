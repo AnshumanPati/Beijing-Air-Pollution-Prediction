{
 "cells": [
  {
   "cell_type": "markdown",
   "metadata": {},
   "source": [
    "The objective here is to do exploratory data analysis and visualization of Air Quality Index based on given features of concentration of PM2.5 concentration, PM10 concentration, sulphur dioxide,nitrogen dioxide, respirable suspended particualte matter, suspended particulate matter, temperature, pressure, dew point, rain and classify the Air Quality as good, moderate, poor, unhealthy, healthy.\n",
    "\n",
    "The data is combined(across the years and several stations across Beijing) and largely clean version of the Historical Daily Ambient Air Quality Data of years 2013-17."
   ]
  },
  {
   "cell_type": "markdown",
   "metadata": {},
   "source": [
    "The columns are:\n",
    "No: row number    \n",
    "year: year of data in this row\n",
    "month: month of data in this row\n",
    "day: day of data in this row\n",
    "hour: hour of data in this row\n",
    "PM2.5: PM2.5 concentration (ug/m^3)\n",
    "PM10: PM10 concentration (ug/m^3)\n",
    "SO2: SO2 concentration (ug/m^3)\n",
    "NO2: NO2 concentration (ug/m^3)\n",
    "CO: CO concentration (ug/m^3)\n",
    "O3: O3 concentration (ug/m^3)\n",
    "TEMP: temperature (degree Celsius)\n",
    "PRES: pressure (hPa)\n",
    "DEWP: dew point temperature (degree Celsius)\n",
    "RAIN: precipitation (mm)\n",
    "wd: wind direction\n",
    "WSPM: wind speed (m/s)\n",
    "station: name of the air-quality monitoring site"
   ]
  },
  {
   "cell_type": "markdown",
   "metadata": {},
   "source": [
    "# Exploratory Data Analysis of Aotizhongxin Station"
   ]
  },
  {
   "cell_type": "code",
   "execution_count": 2,
   "metadata": {},
   "outputs": [],
   "source": [
    "import numpy as np \n",
    "import pandas as pd \n",
    "import seaborn as sns\n",
    "import matplotlib.pyplot as plt\n",
    "%matplotlib inline"
   ]
  },
  {
   "cell_type": "code",
   "execution_count": 3,
   "metadata": {},
   "outputs": [],
   "source": [
    "data = pd.read_csv('PRSA_Data_20130301-20170228\\PRSA_Data_Aotizhongxin_20130301-20170228.csv') #import data"
   ]
  },
  {
   "cell_type": "code",
   "execution_count": 4,
   "metadata": {},
   "outputs": [
    {
     "data": {
      "text/html": [
       "<div>\n",
       "<style scoped>\n",
       "    .dataframe tbody tr th:only-of-type {\n",
       "        vertical-align: middle;\n",
       "    }\n",
       "\n",
       "    .dataframe tbody tr th {\n",
       "        vertical-align: top;\n",
       "    }\n",
       "\n",
       "    .dataframe thead th {\n",
       "        text-align: right;\n",
       "    }\n",
       "</style>\n",
       "<table border=\"1\" class=\"dataframe\">\n",
       "  <thead>\n",
       "    <tr style=\"text-align: right;\">\n",
       "      <th></th>\n",
       "      <th>No</th>\n",
       "      <th>year</th>\n",
       "      <th>month</th>\n",
       "      <th>day</th>\n",
       "      <th>hour</th>\n",
       "      <th>PM2.5</th>\n",
       "      <th>PM10</th>\n",
       "      <th>SO2</th>\n",
       "      <th>NO2</th>\n",
       "      <th>CO</th>\n",
       "      <th>O3</th>\n",
       "      <th>TEMP</th>\n",
       "      <th>PRES</th>\n",
       "      <th>DEWP</th>\n",
       "      <th>RAIN</th>\n",
       "      <th>wd</th>\n",
       "      <th>WSPM</th>\n",
       "      <th>station</th>\n",
       "    </tr>\n",
       "  </thead>\n",
       "  <tbody>\n",
       "    <tr>\n",
       "      <th>0</th>\n",
       "      <td>1</td>\n",
       "      <td>2013</td>\n",
       "      <td>3</td>\n",
       "      <td>1</td>\n",
       "      <td>0</td>\n",
       "      <td>4.0</td>\n",
       "      <td>4.0</td>\n",
       "      <td>4.0</td>\n",
       "      <td>7.0</td>\n",
       "      <td>300.0</td>\n",
       "      <td>77.0</td>\n",
       "      <td>-0.7</td>\n",
       "      <td>1023.0</td>\n",
       "      <td>-18.8</td>\n",
       "      <td>0.0</td>\n",
       "      <td>NNW</td>\n",
       "      <td>4.4</td>\n",
       "      <td>Aotizhongxin</td>\n",
       "    </tr>\n",
       "    <tr>\n",
       "      <th>1</th>\n",
       "      <td>2</td>\n",
       "      <td>2013</td>\n",
       "      <td>3</td>\n",
       "      <td>1</td>\n",
       "      <td>1</td>\n",
       "      <td>8.0</td>\n",
       "      <td>8.0</td>\n",
       "      <td>4.0</td>\n",
       "      <td>7.0</td>\n",
       "      <td>300.0</td>\n",
       "      <td>77.0</td>\n",
       "      <td>-1.1</td>\n",
       "      <td>1023.2</td>\n",
       "      <td>-18.2</td>\n",
       "      <td>0.0</td>\n",
       "      <td>N</td>\n",
       "      <td>4.7</td>\n",
       "      <td>Aotizhongxin</td>\n",
       "    </tr>\n",
       "    <tr>\n",
       "      <th>2</th>\n",
       "      <td>3</td>\n",
       "      <td>2013</td>\n",
       "      <td>3</td>\n",
       "      <td>1</td>\n",
       "      <td>2</td>\n",
       "      <td>7.0</td>\n",
       "      <td>7.0</td>\n",
       "      <td>5.0</td>\n",
       "      <td>10.0</td>\n",
       "      <td>300.0</td>\n",
       "      <td>73.0</td>\n",
       "      <td>-1.1</td>\n",
       "      <td>1023.5</td>\n",
       "      <td>-18.2</td>\n",
       "      <td>0.0</td>\n",
       "      <td>NNW</td>\n",
       "      <td>5.6</td>\n",
       "      <td>Aotizhongxin</td>\n",
       "    </tr>\n",
       "    <tr>\n",
       "      <th>3</th>\n",
       "      <td>4</td>\n",
       "      <td>2013</td>\n",
       "      <td>3</td>\n",
       "      <td>1</td>\n",
       "      <td>3</td>\n",
       "      <td>6.0</td>\n",
       "      <td>6.0</td>\n",
       "      <td>11.0</td>\n",
       "      <td>11.0</td>\n",
       "      <td>300.0</td>\n",
       "      <td>72.0</td>\n",
       "      <td>-1.4</td>\n",
       "      <td>1024.5</td>\n",
       "      <td>-19.4</td>\n",
       "      <td>0.0</td>\n",
       "      <td>NW</td>\n",
       "      <td>3.1</td>\n",
       "      <td>Aotizhongxin</td>\n",
       "    </tr>\n",
       "    <tr>\n",
       "      <th>4</th>\n",
       "      <td>5</td>\n",
       "      <td>2013</td>\n",
       "      <td>3</td>\n",
       "      <td>1</td>\n",
       "      <td>4</td>\n",
       "      <td>3.0</td>\n",
       "      <td>3.0</td>\n",
       "      <td>12.0</td>\n",
       "      <td>12.0</td>\n",
       "      <td>300.0</td>\n",
       "      <td>72.0</td>\n",
       "      <td>-2.0</td>\n",
       "      <td>1025.2</td>\n",
       "      <td>-19.5</td>\n",
       "      <td>0.0</td>\n",
       "      <td>N</td>\n",
       "      <td>2.0</td>\n",
       "      <td>Aotizhongxin</td>\n",
       "    </tr>\n",
       "    <tr>\n",
       "      <th>5</th>\n",
       "      <td>6</td>\n",
       "      <td>2013</td>\n",
       "      <td>3</td>\n",
       "      <td>1</td>\n",
       "      <td>5</td>\n",
       "      <td>5.0</td>\n",
       "      <td>5.0</td>\n",
       "      <td>18.0</td>\n",
       "      <td>18.0</td>\n",
       "      <td>400.0</td>\n",
       "      <td>66.0</td>\n",
       "      <td>-2.2</td>\n",
       "      <td>1025.6</td>\n",
       "      <td>-19.6</td>\n",
       "      <td>0.0</td>\n",
       "      <td>N</td>\n",
       "      <td>3.7</td>\n",
       "      <td>Aotizhongxin</td>\n",
       "    </tr>\n",
       "    <tr>\n",
       "      <th>6</th>\n",
       "      <td>7</td>\n",
       "      <td>2013</td>\n",
       "      <td>3</td>\n",
       "      <td>1</td>\n",
       "      <td>6</td>\n",
       "      <td>3.0</td>\n",
       "      <td>3.0</td>\n",
       "      <td>18.0</td>\n",
       "      <td>32.0</td>\n",
       "      <td>500.0</td>\n",
       "      <td>50.0</td>\n",
       "      <td>-2.6</td>\n",
       "      <td>1026.5</td>\n",
       "      <td>-19.1</td>\n",
       "      <td>0.0</td>\n",
       "      <td>NNE</td>\n",
       "      <td>2.5</td>\n",
       "      <td>Aotizhongxin</td>\n",
       "    </tr>\n",
       "    <tr>\n",
       "      <th>7</th>\n",
       "      <td>8</td>\n",
       "      <td>2013</td>\n",
       "      <td>3</td>\n",
       "      <td>1</td>\n",
       "      <td>7</td>\n",
       "      <td>3.0</td>\n",
       "      <td>6.0</td>\n",
       "      <td>19.0</td>\n",
       "      <td>41.0</td>\n",
       "      <td>500.0</td>\n",
       "      <td>43.0</td>\n",
       "      <td>-1.6</td>\n",
       "      <td>1027.4</td>\n",
       "      <td>-19.1</td>\n",
       "      <td>0.0</td>\n",
       "      <td>NNW</td>\n",
       "      <td>3.8</td>\n",
       "      <td>Aotizhongxin</td>\n",
       "    </tr>\n",
       "    <tr>\n",
       "      <th>8</th>\n",
       "      <td>9</td>\n",
       "      <td>2013</td>\n",
       "      <td>3</td>\n",
       "      <td>1</td>\n",
       "      <td>8</td>\n",
       "      <td>3.0</td>\n",
       "      <td>6.0</td>\n",
       "      <td>16.0</td>\n",
       "      <td>43.0</td>\n",
       "      <td>500.0</td>\n",
       "      <td>45.0</td>\n",
       "      <td>0.1</td>\n",
       "      <td>1028.3</td>\n",
       "      <td>-19.2</td>\n",
       "      <td>0.0</td>\n",
       "      <td>NNW</td>\n",
       "      <td>4.1</td>\n",
       "      <td>Aotizhongxin</td>\n",
       "    </tr>\n",
       "    <tr>\n",
       "      <th>9</th>\n",
       "      <td>10</td>\n",
       "      <td>2013</td>\n",
       "      <td>3</td>\n",
       "      <td>1</td>\n",
       "      <td>9</td>\n",
       "      <td>3.0</td>\n",
       "      <td>8.0</td>\n",
       "      <td>12.0</td>\n",
       "      <td>28.0</td>\n",
       "      <td>400.0</td>\n",
       "      <td>59.0</td>\n",
       "      <td>1.2</td>\n",
       "      <td>1028.5</td>\n",
       "      <td>-19.3</td>\n",
       "      <td>0.0</td>\n",
       "      <td>N</td>\n",
       "      <td>2.6</td>\n",
       "      <td>Aotizhongxin</td>\n",
       "    </tr>\n",
       "  </tbody>\n",
       "</table>\n",
       "</div>"
      ],
      "text/plain": [
       "   No  year  month  day  hour  PM2.5  PM10   SO2   NO2     CO    O3  TEMP  \\\n",
       "0   1  2013      3    1     0    4.0   4.0   4.0   7.0  300.0  77.0  -0.7   \n",
       "1   2  2013      3    1     1    8.0   8.0   4.0   7.0  300.0  77.0  -1.1   \n",
       "2   3  2013      3    1     2    7.0   7.0   5.0  10.0  300.0  73.0  -1.1   \n",
       "3   4  2013      3    1     3    6.0   6.0  11.0  11.0  300.0  72.0  -1.4   \n",
       "4   5  2013      3    1     4    3.0   3.0  12.0  12.0  300.0  72.0  -2.0   \n",
       "5   6  2013      3    1     5    5.0   5.0  18.0  18.0  400.0  66.0  -2.2   \n",
       "6   7  2013      3    1     6    3.0   3.0  18.0  32.0  500.0  50.0  -2.6   \n",
       "7   8  2013      3    1     7    3.0   6.0  19.0  41.0  500.0  43.0  -1.6   \n",
       "8   9  2013      3    1     8    3.0   6.0  16.0  43.0  500.0  45.0   0.1   \n",
       "9  10  2013      3    1     9    3.0   8.0  12.0  28.0  400.0  59.0   1.2   \n",
       "\n",
       "     PRES  DEWP  RAIN   wd  WSPM       station  \n",
       "0  1023.0 -18.8   0.0  NNW   4.4  Aotizhongxin  \n",
       "1  1023.2 -18.2   0.0    N   4.7  Aotizhongxin  \n",
       "2  1023.5 -18.2   0.0  NNW   5.6  Aotizhongxin  \n",
       "3  1024.5 -19.4   0.0   NW   3.1  Aotizhongxin  \n",
       "4  1025.2 -19.5   0.0    N   2.0  Aotizhongxin  \n",
       "5  1025.6 -19.6   0.0    N   3.7  Aotizhongxin  \n",
       "6  1026.5 -19.1   0.0  NNE   2.5  Aotizhongxin  \n",
       "7  1027.4 -19.1   0.0  NNW   3.8  Aotizhongxin  \n",
       "8  1028.3 -19.2   0.0  NNW   4.1  Aotizhongxin  \n",
       "9  1028.5 -19.3   0.0    N   2.6  Aotizhongxin  "
      ]
     },
     "execution_count": 4,
     "metadata": {},
     "output_type": "execute_result"
    }
   ],
   "source": [
    "data.head(10) #print first 10 rows"
   ]
  },
  {
   "cell_type": "code",
   "execution_count": 5,
   "metadata": {},
   "outputs": [
    {
     "data": {
      "text/html": [
       "<div>\n",
       "<style scoped>\n",
       "    .dataframe tbody tr th:only-of-type {\n",
       "        vertical-align: middle;\n",
       "    }\n",
       "\n",
       "    .dataframe tbody tr th {\n",
       "        vertical-align: top;\n",
       "    }\n",
       "\n",
       "    .dataframe thead th {\n",
       "        text-align: right;\n",
       "    }\n",
       "</style>\n",
       "<table border=\"1\" class=\"dataframe\">\n",
       "  <thead>\n",
       "    <tr style=\"text-align: right;\">\n",
       "      <th></th>\n",
       "      <th>No</th>\n",
       "      <th>year</th>\n",
       "      <th>month</th>\n",
       "      <th>day</th>\n",
       "      <th>hour</th>\n",
       "      <th>PM2.5</th>\n",
       "      <th>PM10</th>\n",
       "      <th>SO2</th>\n",
       "      <th>NO2</th>\n",
       "      <th>CO</th>\n",
       "      <th>O3</th>\n",
       "      <th>TEMP</th>\n",
       "      <th>PRES</th>\n",
       "      <th>DEWP</th>\n",
       "      <th>RAIN</th>\n",
       "      <th>wd</th>\n",
       "      <th>WSPM</th>\n",
       "      <th>station</th>\n",
       "    </tr>\n",
       "  </thead>\n",
       "  <tbody>\n",
       "    <tr>\n",
       "      <th>35054</th>\n",
       "      <td>35055</td>\n",
       "      <td>2017</td>\n",
       "      <td>2</td>\n",
       "      <td>28</td>\n",
       "      <td>14</td>\n",
       "      <td>5.0</td>\n",
       "      <td>5.0</td>\n",
       "      <td>4.0</td>\n",
       "      <td>8.0</td>\n",
       "      <td>100.0</td>\n",
       "      <td>117.0</td>\n",
       "      <td>14.6</td>\n",
       "      <td>1013.3</td>\n",
       "      <td>-15.6</td>\n",
       "      <td>0.0</td>\n",
       "      <td>N</td>\n",
       "      <td>3.6</td>\n",
       "      <td>Aotizhongxin</td>\n",
       "    </tr>\n",
       "    <tr>\n",
       "      <th>35055</th>\n",
       "      <td>35056</td>\n",
       "      <td>2017</td>\n",
       "      <td>2</td>\n",
       "      <td>28</td>\n",
       "      <td>15</td>\n",
       "      <td>6.0</td>\n",
       "      <td>19.0</td>\n",
       "      <td>4.0</td>\n",
       "      <td>8.0</td>\n",
       "      <td>100.0</td>\n",
       "      <td>122.0</td>\n",
       "      <td>15.4</td>\n",
       "      <td>1013.0</td>\n",
       "      <td>-15.0</td>\n",
       "      <td>0.0</td>\n",
       "      <td>NNW</td>\n",
       "      <td>3.3</td>\n",
       "      <td>Aotizhongxin</td>\n",
       "    </tr>\n",
       "    <tr>\n",
       "      <th>35056</th>\n",
       "      <td>35057</td>\n",
       "      <td>2017</td>\n",
       "      <td>2</td>\n",
       "      <td>28</td>\n",
       "      <td>16</td>\n",
       "      <td>12.0</td>\n",
       "      <td>18.0</td>\n",
       "      <td>5.0</td>\n",
       "      <td>9.0</td>\n",
       "      <td>200.0</td>\n",
       "      <td>122.0</td>\n",
       "      <td>14.9</td>\n",
       "      <td>1012.6</td>\n",
       "      <td>-15.4</td>\n",
       "      <td>0.0</td>\n",
       "      <td>NW</td>\n",
       "      <td>2.1</td>\n",
       "      <td>Aotizhongxin</td>\n",
       "    </tr>\n",
       "    <tr>\n",
       "      <th>35057</th>\n",
       "      <td>35058</td>\n",
       "      <td>2017</td>\n",
       "      <td>2</td>\n",
       "      <td>28</td>\n",
       "      <td>17</td>\n",
       "      <td>12.0</td>\n",
       "      <td>23.0</td>\n",
       "      <td>6.0</td>\n",
       "      <td>13.0</td>\n",
       "      <td>200.0</td>\n",
       "      <td>120.0</td>\n",
       "      <td>14.2</td>\n",
       "      <td>1012.5</td>\n",
       "      <td>-14.9</td>\n",
       "      <td>0.0</td>\n",
       "      <td>NW</td>\n",
       "      <td>3.1</td>\n",
       "      <td>Aotizhongxin</td>\n",
       "    </tr>\n",
       "    <tr>\n",
       "      <th>35058</th>\n",
       "      <td>35059</td>\n",
       "      <td>2017</td>\n",
       "      <td>2</td>\n",
       "      <td>28</td>\n",
       "      <td>18</td>\n",
       "      <td>13.0</td>\n",
       "      <td>29.0</td>\n",
       "      <td>5.0</td>\n",
       "      <td>22.0</td>\n",
       "      <td>300.0</td>\n",
       "      <td>109.0</td>\n",
       "      <td>13.4</td>\n",
       "      <td>1013.0</td>\n",
       "      <td>-15.5</td>\n",
       "      <td>0.0</td>\n",
       "      <td>WNW</td>\n",
       "      <td>1.4</td>\n",
       "      <td>Aotizhongxin</td>\n",
       "    </tr>\n",
       "    <tr>\n",
       "      <th>35059</th>\n",
       "      <td>35060</td>\n",
       "      <td>2017</td>\n",
       "      <td>2</td>\n",
       "      <td>28</td>\n",
       "      <td>19</td>\n",
       "      <td>12.0</td>\n",
       "      <td>29.0</td>\n",
       "      <td>5.0</td>\n",
       "      <td>35.0</td>\n",
       "      <td>400.0</td>\n",
       "      <td>95.0</td>\n",
       "      <td>12.5</td>\n",
       "      <td>1013.5</td>\n",
       "      <td>-16.2</td>\n",
       "      <td>0.0</td>\n",
       "      <td>NW</td>\n",
       "      <td>2.4</td>\n",
       "      <td>Aotizhongxin</td>\n",
       "    </tr>\n",
       "    <tr>\n",
       "      <th>35060</th>\n",
       "      <td>35061</td>\n",
       "      <td>2017</td>\n",
       "      <td>2</td>\n",
       "      <td>28</td>\n",
       "      <td>20</td>\n",
       "      <td>13.0</td>\n",
       "      <td>37.0</td>\n",
       "      <td>7.0</td>\n",
       "      <td>45.0</td>\n",
       "      <td>500.0</td>\n",
       "      <td>81.0</td>\n",
       "      <td>11.6</td>\n",
       "      <td>1013.6</td>\n",
       "      <td>-15.1</td>\n",
       "      <td>0.0</td>\n",
       "      <td>WNW</td>\n",
       "      <td>0.9</td>\n",
       "      <td>Aotizhongxin</td>\n",
       "    </tr>\n",
       "    <tr>\n",
       "      <th>35061</th>\n",
       "      <td>35062</td>\n",
       "      <td>2017</td>\n",
       "      <td>2</td>\n",
       "      <td>28</td>\n",
       "      <td>21</td>\n",
       "      <td>16.0</td>\n",
       "      <td>37.0</td>\n",
       "      <td>10.0</td>\n",
       "      <td>66.0</td>\n",
       "      <td>700.0</td>\n",
       "      <td>58.0</td>\n",
       "      <td>10.8</td>\n",
       "      <td>1014.2</td>\n",
       "      <td>-13.3</td>\n",
       "      <td>0.0</td>\n",
       "      <td>NW</td>\n",
       "      <td>1.1</td>\n",
       "      <td>Aotizhongxin</td>\n",
       "    </tr>\n",
       "    <tr>\n",
       "      <th>35062</th>\n",
       "      <td>35063</td>\n",
       "      <td>2017</td>\n",
       "      <td>2</td>\n",
       "      <td>28</td>\n",
       "      <td>22</td>\n",
       "      <td>21.0</td>\n",
       "      <td>44.0</td>\n",
       "      <td>12.0</td>\n",
       "      <td>87.0</td>\n",
       "      <td>700.0</td>\n",
       "      <td>35.0</td>\n",
       "      <td>10.5</td>\n",
       "      <td>1014.4</td>\n",
       "      <td>-12.9</td>\n",
       "      <td>0.0</td>\n",
       "      <td>NNW</td>\n",
       "      <td>1.2</td>\n",
       "      <td>Aotizhongxin</td>\n",
       "    </tr>\n",
       "    <tr>\n",
       "      <th>35063</th>\n",
       "      <td>35064</td>\n",
       "      <td>2017</td>\n",
       "      <td>2</td>\n",
       "      <td>28</td>\n",
       "      <td>23</td>\n",
       "      <td>19.0</td>\n",
       "      <td>31.0</td>\n",
       "      <td>10.0</td>\n",
       "      <td>79.0</td>\n",
       "      <td>600.0</td>\n",
       "      <td>42.0</td>\n",
       "      <td>8.6</td>\n",
       "      <td>1014.1</td>\n",
       "      <td>-15.9</td>\n",
       "      <td>0.0</td>\n",
       "      <td>NNE</td>\n",
       "      <td>1.3</td>\n",
       "      <td>Aotizhongxin</td>\n",
       "    </tr>\n",
       "  </tbody>\n",
       "</table>\n",
       "</div>"
      ],
      "text/plain": [
       "          No  year  month  day  hour  PM2.5  PM10   SO2   NO2     CO     O3  \\\n",
       "35054  35055  2017      2   28    14    5.0   5.0   4.0   8.0  100.0  117.0   \n",
       "35055  35056  2017      2   28    15    6.0  19.0   4.0   8.0  100.0  122.0   \n",
       "35056  35057  2017      2   28    16   12.0  18.0   5.0   9.0  200.0  122.0   \n",
       "35057  35058  2017      2   28    17   12.0  23.0   6.0  13.0  200.0  120.0   \n",
       "35058  35059  2017      2   28    18   13.0  29.0   5.0  22.0  300.0  109.0   \n",
       "35059  35060  2017      2   28    19   12.0  29.0   5.0  35.0  400.0   95.0   \n",
       "35060  35061  2017      2   28    20   13.0  37.0   7.0  45.0  500.0   81.0   \n",
       "35061  35062  2017      2   28    21   16.0  37.0  10.0  66.0  700.0   58.0   \n",
       "35062  35063  2017      2   28    22   21.0  44.0  12.0  87.0  700.0   35.0   \n",
       "35063  35064  2017      2   28    23   19.0  31.0  10.0  79.0  600.0   42.0   \n",
       "\n",
       "       TEMP    PRES  DEWP  RAIN   wd  WSPM       station  \n",
       "35054  14.6  1013.3 -15.6   0.0    N   3.6  Aotizhongxin  \n",
       "35055  15.4  1013.0 -15.0   0.0  NNW   3.3  Aotizhongxin  \n",
       "35056  14.9  1012.6 -15.4   0.0   NW   2.1  Aotizhongxin  \n",
       "35057  14.2  1012.5 -14.9   0.0   NW   3.1  Aotizhongxin  \n",
       "35058  13.4  1013.0 -15.5   0.0  WNW   1.4  Aotizhongxin  \n",
       "35059  12.5  1013.5 -16.2   0.0   NW   2.4  Aotizhongxin  \n",
       "35060  11.6  1013.6 -15.1   0.0  WNW   0.9  Aotizhongxin  \n",
       "35061  10.8  1014.2 -13.3   0.0   NW   1.1  Aotizhongxin  \n",
       "35062  10.5  1014.4 -12.9   0.0  NNW   1.2  Aotizhongxin  \n",
       "35063   8.6  1014.1 -15.9   0.0  NNE   1.3  Aotizhongxin  "
      ]
     },
     "execution_count": 5,
     "metadata": {},
     "output_type": "execute_result"
    }
   ],
   "source": [
    "data.tail(10) #printing last 10 rows"
   ]
  },
  {
   "cell_type": "code",
   "execution_count": 6,
   "metadata": {},
   "outputs": [
    {
     "data": {
      "text/plain": [
       "Index(['No', 'year', 'month', 'day', 'hour', 'PM2.5', 'PM10', 'SO2', 'NO2',\n",
       "       'CO', 'O3', 'TEMP', 'PRES', 'DEWP', 'RAIN', 'wd', 'WSPM', 'station'],\n",
       "      dtype='object')"
      ]
     },
     "execution_count": 6,
     "metadata": {},
     "output_type": "execute_result"
    }
   ],
   "source": [
    "data.columns #print the columns/features of the data"
   ]
  },
  {
   "cell_type": "code",
   "execution_count": 7,
   "metadata": {},
   "outputs": [
    {
     "data": {
      "text/html": [
       "<div>\n",
       "<style scoped>\n",
       "    .dataframe tbody tr th:only-of-type {\n",
       "        vertical-align: middle;\n",
       "    }\n",
       "\n",
       "    .dataframe tbody tr th {\n",
       "        vertical-align: top;\n",
       "    }\n",
       "\n",
       "    .dataframe thead th {\n",
       "        text-align: right;\n",
       "    }\n",
       "</style>\n",
       "<table border=\"1\" class=\"dataframe\">\n",
       "  <thead>\n",
       "    <tr style=\"text-align: right;\">\n",
       "      <th></th>\n",
       "      <th>No</th>\n",
       "      <th>year</th>\n",
       "      <th>month</th>\n",
       "      <th>day</th>\n",
       "      <th>hour</th>\n",
       "      <th>PM2.5</th>\n",
       "      <th>PM10</th>\n",
       "      <th>SO2</th>\n",
       "      <th>NO2</th>\n",
       "      <th>CO</th>\n",
       "      <th>O3</th>\n",
       "      <th>TEMP</th>\n",
       "      <th>PRES</th>\n",
       "      <th>DEWP</th>\n",
       "      <th>RAIN</th>\n",
       "      <th>WSPM</th>\n",
       "    </tr>\n",
       "  </thead>\n",
       "  <tbody>\n",
       "    <tr>\n",
       "      <th>count</th>\n",
       "      <td>35064.000000</td>\n",
       "      <td>35064.000000</td>\n",
       "      <td>35064.000000</td>\n",
       "      <td>35064.000000</td>\n",
       "      <td>35064.000000</td>\n",
       "      <td>34139.000000</td>\n",
       "      <td>34346.000000</td>\n",
       "      <td>34129.000000</td>\n",
       "      <td>34041.000000</td>\n",
       "      <td>33288.000000</td>\n",
       "      <td>33345.000000</td>\n",
       "      <td>35044.000000</td>\n",
       "      <td>35044.000000</td>\n",
       "      <td>35044.000000</td>\n",
       "      <td>35044.000000</td>\n",
       "      <td>35050.000000</td>\n",
       "    </tr>\n",
       "    <tr>\n",
       "      <th>mean</th>\n",
       "      <td>17532.500000</td>\n",
       "      <td>2014.662560</td>\n",
       "      <td>6.522930</td>\n",
       "      <td>15.729637</td>\n",
       "      <td>11.500000</td>\n",
       "      <td>82.773611</td>\n",
       "      <td>110.060391</td>\n",
       "      <td>17.375901</td>\n",
       "      <td>59.305833</td>\n",
       "      <td>1262.945145</td>\n",
       "      <td>56.353358</td>\n",
       "      <td>13.584607</td>\n",
       "      <td>1011.846920</td>\n",
       "      <td>3.123062</td>\n",
       "      <td>0.067421</td>\n",
       "      <td>1.708496</td>\n",
       "    </tr>\n",
       "    <tr>\n",
       "      <th>std</th>\n",
       "      <td>10122.249256</td>\n",
       "      <td>1.177213</td>\n",
       "      <td>3.448752</td>\n",
       "      <td>8.800218</td>\n",
       "      <td>6.922285</td>\n",
       "      <td>82.135694</td>\n",
       "      <td>95.223005</td>\n",
       "      <td>22.823017</td>\n",
       "      <td>37.116200</td>\n",
       "      <td>1221.436236</td>\n",
       "      <td>57.916327</td>\n",
       "      <td>11.399097</td>\n",
       "      <td>10.404047</td>\n",
       "      <td>13.688896</td>\n",
       "      <td>0.910056</td>\n",
       "      <td>1.204071</td>\n",
       "    </tr>\n",
       "    <tr>\n",
       "      <th>min</th>\n",
       "      <td>1.000000</td>\n",
       "      <td>2013.000000</td>\n",
       "      <td>1.000000</td>\n",
       "      <td>1.000000</td>\n",
       "      <td>0.000000</td>\n",
       "      <td>3.000000</td>\n",
       "      <td>2.000000</td>\n",
       "      <td>0.285600</td>\n",
       "      <td>2.000000</td>\n",
       "      <td>100.000000</td>\n",
       "      <td>0.214200</td>\n",
       "      <td>-16.800000</td>\n",
       "      <td>985.900000</td>\n",
       "      <td>-35.300000</td>\n",
       "      <td>0.000000</td>\n",
       "      <td>0.000000</td>\n",
       "    </tr>\n",
       "    <tr>\n",
       "      <th>25%</th>\n",
       "      <td>8766.750000</td>\n",
       "      <td>2014.000000</td>\n",
       "      <td>4.000000</td>\n",
       "      <td>8.000000</td>\n",
       "      <td>5.750000</td>\n",
       "      <td>22.000000</td>\n",
       "      <td>38.000000</td>\n",
       "      <td>3.000000</td>\n",
       "      <td>30.000000</td>\n",
       "      <td>500.000000</td>\n",
       "      <td>8.000000</td>\n",
       "      <td>3.100000</td>\n",
       "      <td>1003.300000</td>\n",
       "      <td>-8.100000</td>\n",
       "      <td>0.000000</td>\n",
       "      <td>0.900000</td>\n",
       "    </tr>\n",
       "    <tr>\n",
       "      <th>50%</th>\n",
       "      <td>17532.500000</td>\n",
       "      <td>2015.000000</td>\n",
       "      <td>7.000000</td>\n",
       "      <td>16.000000</td>\n",
       "      <td>11.500000</td>\n",
       "      <td>58.000000</td>\n",
       "      <td>87.000000</td>\n",
       "      <td>9.000000</td>\n",
       "      <td>53.000000</td>\n",
       "      <td>900.000000</td>\n",
       "      <td>42.000000</td>\n",
       "      <td>14.500000</td>\n",
       "      <td>1011.400000</td>\n",
       "      <td>3.800000</td>\n",
       "      <td>0.000000</td>\n",
       "      <td>1.400000</td>\n",
       "    </tr>\n",
       "    <tr>\n",
       "      <th>75%</th>\n",
       "      <td>26298.250000</td>\n",
       "      <td>2016.000000</td>\n",
       "      <td>10.000000</td>\n",
       "      <td>23.000000</td>\n",
       "      <td>17.250000</td>\n",
       "      <td>114.000000</td>\n",
       "      <td>155.000000</td>\n",
       "      <td>21.000000</td>\n",
       "      <td>82.000000</td>\n",
       "      <td>1500.000000</td>\n",
       "      <td>82.000000</td>\n",
       "      <td>23.300000</td>\n",
       "      <td>1020.100000</td>\n",
       "      <td>15.600000</td>\n",
       "      <td>0.000000</td>\n",
       "      <td>2.200000</td>\n",
       "    </tr>\n",
       "    <tr>\n",
       "      <th>max</th>\n",
       "      <td>35064.000000</td>\n",
       "      <td>2017.000000</td>\n",
       "      <td>12.000000</td>\n",
       "      <td>31.000000</td>\n",
       "      <td>23.000000</td>\n",
       "      <td>898.000000</td>\n",
       "      <td>984.000000</td>\n",
       "      <td>341.000000</td>\n",
       "      <td>290.000000</td>\n",
       "      <td>10000.000000</td>\n",
       "      <td>423.000000</td>\n",
       "      <td>40.500000</td>\n",
       "      <td>1042.000000</td>\n",
       "      <td>28.500000</td>\n",
       "      <td>72.500000</td>\n",
       "      <td>11.200000</td>\n",
       "    </tr>\n",
       "  </tbody>\n",
       "</table>\n",
       "</div>"
      ],
      "text/plain": [
       "                 No          year         month           day          hour  \\\n",
       "count  35064.000000  35064.000000  35064.000000  35064.000000  35064.000000   \n",
       "mean   17532.500000   2014.662560      6.522930     15.729637     11.500000   \n",
       "std    10122.249256      1.177213      3.448752      8.800218      6.922285   \n",
       "min        1.000000   2013.000000      1.000000      1.000000      0.000000   \n",
       "25%     8766.750000   2014.000000      4.000000      8.000000      5.750000   \n",
       "50%    17532.500000   2015.000000      7.000000     16.000000     11.500000   \n",
       "75%    26298.250000   2016.000000     10.000000     23.000000     17.250000   \n",
       "max    35064.000000   2017.000000     12.000000     31.000000     23.000000   \n",
       "\n",
       "              PM2.5          PM10           SO2           NO2            CO  \\\n",
       "count  34139.000000  34346.000000  34129.000000  34041.000000  33288.000000   \n",
       "mean      82.773611    110.060391     17.375901     59.305833   1262.945145   \n",
       "std       82.135694     95.223005     22.823017     37.116200   1221.436236   \n",
       "min        3.000000      2.000000      0.285600      2.000000    100.000000   \n",
       "25%       22.000000     38.000000      3.000000     30.000000    500.000000   \n",
       "50%       58.000000     87.000000      9.000000     53.000000    900.000000   \n",
       "75%      114.000000    155.000000     21.000000     82.000000   1500.000000   \n",
       "max      898.000000    984.000000    341.000000    290.000000  10000.000000   \n",
       "\n",
       "                 O3          TEMP          PRES          DEWP          RAIN  \\\n",
       "count  33345.000000  35044.000000  35044.000000  35044.000000  35044.000000   \n",
       "mean      56.353358     13.584607   1011.846920      3.123062      0.067421   \n",
       "std       57.916327     11.399097     10.404047     13.688896      0.910056   \n",
       "min        0.214200    -16.800000    985.900000    -35.300000      0.000000   \n",
       "25%        8.000000      3.100000   1003.300000     -8.100000      0.000000   \n",
       "50%       42.000000     14.500000   1011.400000      3.800000      0.000000   \n",
       "75%       82.000000     23.300000   1020.100000     15.600000      0.000000   \n",
       "max      423.000000     40.500000   1042.000000     28.500000     72.500000   \n",
       "\n",
       "               WSPM  \n",
       "count  35050.000000  \n",
       "mean       1.708496  \n",
       "std        1.204071  \n",
       "min        0.000000  \n",
       "25%        0.900000  \n",
       "50%        1.400000  \n",
       "75%        2.200000  \n",
       "max       11.200000  "
      ]
     },
     "execution_count": 7,
     "metadata": {},
     "output_type": "execute_result"
    }
   ],
   "source": [
    "data.describe() #basic info of the dataset"
   ]
  },
  {
   "cell_type": "markdown",
   "metadata": {},
   "source": [
    "## Data Shape (DIMENSION)\n"
   ]
  },
  {
   "cell_type": "code",
   "execution_count": 8,
   "metadata": {},
   "outputs": [
    {
     "data": {
      "text/plain": [
       "(35064, 18)"
      ]
     },
     "execution_count": 8,
     "metadata": {},
     "output_type": "execute_result"
    }
   ],
   "source": [
    "data.shape #dimensions of the data"
   ]
  },
  {
   "cell_type": "markdown",
   "metadata": {},
   "source": [
    "## EXPLORATORY DATA ANALYSIS ON THE COMBINED DATASET FOR ALL STATIONS"
   ]
  },
  {
   "cell_type": "markdown",
   "metadata": {},
   "source": [
    "### There are around 420768 data points in the dataset made by combining data from individual stations"
   ]
  },
  {
   "cell_type": "markdown",
   "metadata": {},
   "source": [
    "We perform Data Analysis on this combined dataset Combined_Data-csv.csv"
   ]
  },
  {
   "cell_type": "code",
   "execution_count": 12,
   "metadata": {},
   "outputs": [],
   "source": [
    "import numpy as np \n",
    "import pandas as pd \n",
    "import seaborn as sns\n",
    "import matplotlib.pyplot as plt\n",
    "%matplotlib inline"
   ]
  },
  {
   "cell_type": "code",
   "execution_count": 13,
   "metadata": {},
   "outputs": [],
   "source": [
    "data = pd.read_csv('PRSA_Data_20130301-20170228\\Combined_Data-csv.csv') #import data"
   ]
  },
  {
   "cell_type": "code",
   "execution_count": 12,
   "metadata": {},
   "outputs": [
    {
     "data": {
      "text/html": [
       "<div>\n",
       "<style scoped>\n",
       "    .dataframe tbody tr th:only-of-type {\n",
       "        vertical-align: middle;\n",
       "    }\n",
       "\n",
       "    .dataframe tbody tr th {\n",
       "        vertical-align: top;\n",
       "    }\n",
       "\n",
       "    .dataframe thead th {\n",
       "        text-align: right;\n",
       "    }\n",
       "</style>\n",
       "<table border=\"1\" class=\"dataframe\">\n",
       "  <thead>\n",
       "    <tr style=\"text-align: right;\">\n",
       "      <th></th>\n",
       "      <th>No</th>\n",
       "      <th>year</th>\n",
       "      <th>month</th>\n",
       "      <th>day</th>\n",
       "      <th>hour</th>\n",
       "      <th>PM2.5</th>\n",
       "      <th>PM10</th>\n",
       "      <th>SO2</th>\n",
       "      <th>NO2</th>\n",
       "      <th>CO</th>\n",
       "      <th>O3</th>\n",
       "      <th>TEMP</th>\n",
       "      <th>PRES</th>\n",
       "      <th>DEWP</th>\n",
       "      <th>RAIN</th>\n",
       "      <th>wd</th>\n",
       "      <th>WSPM</th>\n",
       "      <th>station</th>\n",
       "    </tr>\n",
       "  </thead>\n",
       "  <tbody>\n",
       "    <tr>\n",
       "      <th>0</th>\n",
       "      <td>1</td>\n",
       "      <td>2013</td>\n",
       "      <td>3</td>\n",
       "      <td>1.0</td>\n",
       "      <td>0.0</td>\n",
       "      <td>9.0</td>\n",
       "      <td>9.0</td>\n",
       "      <td>6.0</td>\n",
       "      <td>17.0</td>\n",
       "      <td>200.0</td>\n",
       "      <td>62.0</td>\n",
       "      <td>0.3</td>\n",
       "      <td>1021.9</td>\n",
       "      <td>-19.0</td>\n",
       "      <td>0.0</td>\n",
       "      <td>WNW</td>\n",
       "      <td>2.0</td>\n",
       "      <td>Wanshouxigong</td>\n",
       "    </tr>\n",
       "    <tr>\n",
       "      <th>1</th>\n",
       "      <td>2</td>\n",
       "      <td>2013</td>\n",
       "      <td>3</td>\n",
       "      <td>1.0</td>\n",
       "      <td>1.0</td>\n",
       "      <td>11.0</td>\n",
       "      <td>11.0</td>\n",
       "      <td>7.0</td>\n",
       "      <td>14.0</td>\n",
       "      <td>200.0</td>\n",
       "      <td>66.0</td>\n",
       "      <td>-0.1</td>\n",
       "      <td>1022.4</td>\n",
       "      <td>-19.3</td>\n",
       "      <td>0.0</td>\n",
       "      <td>WNW</td>\n",
       "      <td>4.4</td>\n",
       "      <td>Wanshouxigong</td>\n",
       "    </tr>\n",
       "    <tr>\n",
       "      <th>2</th>\n",
       "      <td>3</td>\n",
       "      <td>2013</td>\n",
       "      <td>3</td>\n",
       "      <td>1.0</td>\n",
       "      <td>2.0</td>\n",
       "      <td>8.0</td>\n",
       "      <td>8.0</td>\n",
       "      <td>NaN</td>\n",
       "      <td>16.0</td>\n",
       "      <td>200.0</td>\n",
       "      <td>59.0</td>\n",
       "      <td>-0.6</td>\n",
       "      <td>1022.6</td>\n",
       "      <td>-19.7</td>\n",
       "      <td>0.0</td>\n",
       "      <td>WNW</td>\n",
       "      <td>4.7</td>\n",
       "      <td>Wanshouxigong</td>\n",
       "    </tr>\n",
       "    <tr>\n",
       "      <th>3</th>\n",
       "      <td>4</td>\n",
       "      <td>2013</td>\n",
       "      <td>3</td>\n",
       "      <td>1.0</td>\n",
       "      <td>3.0</td>\n",
       "      <td>8.0</td>\n",
       "      <td>8.0</td>\n",
       "      <td>3.0</td>\n",
       "      <td>16.0</td>\n",
       "      <td>NaN</td>\n",
       "      <td>NaN</td>\n",
       "      <td>-0.7</td>\n",
       "      <td>1023.5</td>\n",
       "      <td>-20.9</td>\n",
       "      <td>0.0</td>\n",
       "      <td>NW</td>\n",
       "      <td>2.6</td>\n",
       "      <td>Wanshouxigong</td>\n",
       "    </tr>\n",
       "    <tr>\n",
       "      <th>4</th>\n",
       "      <td>5</td>\n",
       "      <td>2013</td>\n",
       "      <td>3</td>\n",
       "      <td>1.0</td>\n",
       "      <td>4.0</td>\n",
       "      <td>8.0</td>\n",
       "      <td>8.0</td>\n",
       "      <td>3.0</td>\n",
       "      <td>NaN</td>\n",
       "      <td>300.0</td>\n",
       "      <td>36.0</td>\n",
       "      <td>-0.9</td>\n",
       "      <td>1024.1</td>\n",
       "      <td>-21.7</td>\n",
       "      <td>0.0</td>\n",
       "      <td>WNW</td>\n",
       "      <td>2.5</td>\n",
       "      <td>Wanshouxigong</td>\n",
       "    </tr>\n",
       "    <tr>\n",
       "      <th>5</th>\n",
       "      <td>6</td>\n",
       "      <td>2013</td>\n",
       "      <td>3</td>\n",
       "      <td>1.0</td>\n",
       "      <td>5.0</td>\n",
       "      <td>10.0</td>\n",
       "      <td>10.0</td>\n",
       "      <td>4.0</td>\n",
       "      <td>8.0</td>\n",
       "      <td>200.0</td>\n",
       "      <td>64.0</td>\n",
       "      <td>-1.6</td>\n",
       "      <td>1024.7</td>\n",
       "      <td>-21.1</td>\n",
       "      <td>0.0</td>\n",
       "      <td>NE</td>\n",
       "      <td>2.0</td>\n",
       "      <td>Wanshouxigong</td>\n",
       "    </tr>\n",
       "    <tr>\n",
       "      <th>6</th>\n",
       "      <td>7</td>\n",
       "      <td>2013</td>\n",
       "      <td>3</td>\n",
       "      <td>1.0</td>\n",
       "      <td>6.0</td>\n",
       "      <td>8.0</td>\n",
       "      <td>8.0</td>\n",
       "      <td>6.0</td>\n",
       "      <td>13.0</td>\n",
       "      <td>300.0</td>\n",
       "      <td>61.0</td>\n",
       "      <td>-2.4</td>\n",
       "      <td>1025.4</td>\n",
       "      <td>-20.3</td>\n",
       "      <td>0.0</td>\n",
       "      <td>NE</td>\n",
       "      <td>2.3</td>\n",
       "      <td>Wanshouxigong</td>\n",
       "    </tr>\n",
       "    <tr>\n",
       "      <th>7</th>\n",
       "      <td>8</td>\n",
       "      <td>2013</td>\n",
       "      <td>3</td>\n",
       "      <td>1.0</td>\n",
       "      <td>7.0</td>\n",
       "      <td>8.0</td>\n",
       "      <td>8.0</td>\n",
       "      <td>8.0</td>\n",
       "      <td>20.0</td>\n",
       "      <td>300.0</td>\n",
       "      <td>54.0</td>\n",
       "      <td>-0.8</td>\n",
       "      <td>1026.7</td>\n",
       "      <td>-19.9</td>\n",
       "      <td>0.0</td>\n",
       "      <td>NNE</td>\n",
       "      <td>2.0</td>\n",
       "      <td>Wanshouxigong</td>\n",
       "    </tr>\n",
       "    <tr>\n",
       "      <th>8</th>\n",
       "      <td>9</td>\n",
       "      <td>2013</td>\n",
       "      <td>3</td>\n",
       "      <td>1.0</td>\n",
       "      <td>8.0</td>\n",
       "      <td>3.0</td>\n",
       "      <td>6.0</td>\n",
       "      <td>9.0</td>\n",
       "      <td>23.0</td>\n",
       "      <td>300.0</td>\n",
       "      <td>50.0</td>\n",
       "      <td>0.4</td>\n",
       "      <td>1027.3</td>\n",
       "      <td>-19.4</td>\n",
       "      <td>0.0</td>\n",
       "      <td>NE</td>\n",
       "      <td>2.7</td>\n",
       "      <td>Wanshouxigong</td>\n",
       "    </tr>\n",
       "    <tr>\n",
       "      <th>9</th>\n",
       "      <td>10</td>\n",
       "      <td>2013</td>\n",
       "      <td>3</td>\n",
       "      <td>1.0</td>\n",
       "      <td>9.0</td>\n",
       "      <td>3.0</td>\n",
       "      <td>6.0</td>\n",
       "      <td>10.0</td>\n",
       "      <td>18.0</td>\n",
       "      <td>300.0</td>\n",
       "      <td>56.0</td>\n",
       "      <td>1.5</td>\n",
       "      <td>1027.4</td>\n",
       "      <td>-19.7</td>\n",
       "      <td>0.0</td>\n",
       "      <td>ENE</td>\n",
       "      <td>2.9</td>\n",
       "      <td>Wanshouxigong</td>\n",
       "    </tr>\n",
       "  </tbody>\n",
       "</table>\n",
       "</div>"
      ],
      "text/plain": [
       "   No  year  month  day  hour  PM2.5  PM10   SO2   NO2     CO    O3  TEMP  \\\n",
       "0   1  2013      3  1.0   0.0    9.0   9.0   6.0  17.0  200.0  62.0   0.3   \n",
       "1   2  2013      3  1.0   1.0   11.0  11.0   7.0  14.0  200.0  66.0  -0.1   \n",
       "2   3  2013      3  1.0   2.0    8.0   8.0   NaN  16.0  200.0  59.0  -0.6   \n",
       "3   4  2013      3  1.0   3.0    8.0   8.0   3.0  16.0    NaN   NaN  -0.7   \n",
       "4   5  2013      3  1.0   4.0    8.0   8.0   3.0   NaN  300.0  36.0  -0.9   \n",
       "5   6  2013      3  1.0   5.0   10.0  10.0   4.0   8.0  200.0  64.0  -1.6   \n",
       "6   7  2013      3  1.0   6.0    8.0   8.0   6.0  13.0  300.0  61.0  -2.4   \n",
       "7   8  2013      3  1.0   7.0    8.0   8.0   8.0  20.0  300.0  54.0  -0.8   \n",
       "8   9  2013      3  1.0   8.0    3.0   6.0   9.0  23.0  300.0  50.0   0.4   \n",
       "9  10  2013      3  1.0   9.0    3.0   6.0  10.0  18.0  300.0  56.0   1.5   \n",
       "\n",
       "     PRES  DEWP  RAIN   wd  WSPM        station  \n",
       "0  1021.9 -19.0   0.0  WNW   2.0  Wanshouxigong  \n",
       "1  1022.4 -19.3   0.0  WNW   4.4  Wanshouxigong  \n",
       "2  1022.6 -19.7   0.0  WNW   4.7  Wanshouxigong  \n",
       "3  1023.5 -20.9   0.0   NW   2.6  Wanshouxigong  \n",
       "4  1024.1 -21.7   0.0  WNW   2.5  Wanshouxigong  \n",
       "5  1024.7 -21.1   0.0   NE   2.0  Wanshouxigong  \n",
       "6  1025.4 -20.3   0.0   NE   2.3  Wanshouxigong  \n",
       "7  1026.7 -19.9   0.0  NNE   2.0  Wanshouxigong  \n",
       "8  1027.3 -19.4   0.0   NE   2.7  Wanshouxigong  \n",
       "9  1027.4 -19.7   0.0  ENE   2.9  Wanshouxigong  "
      ]
     },
     "execution_count": 12,
     "metadata": {},
     "output_type": "execute_result"
    }
   ],
   "source": [
    "data.head(10) #print first 10 rows"
   ]
  },
  {
   "cell_type": "code",
   "execution_count": 13,
   "metadata": {},
   "outputs": [
    {
     "data": {
      "text/html": [
       "<div>\n",
       "<style scoped>\n",
       "    .dataframe tbody tr th:only-of-type {\n",
       "        vertical-align: middle;\n",
       "    }\n",
       "\n",
       "    .dataframe tbody tr th {\n",
       "        vertical-align: top;\n",
       "    }\n",
       "\n",
       "    .dataframe thead th {\n",
       "        text-align: right;\n",
       "    }\n",
       "</style>\n",
       "<table border=\"1\" class=\"dataframe\">\n",
       "  <thead>\n",
       "    <tr style=\"text-align: right;\">\n",
       "      <th></th>\n",
       "      <th>No</th>\n",
       "      <th>year</th>\n",
       "      <th>month</th>\n",
       "      <th>day</th>\n",
       "      <th>hour</th>\n",
       "      <th>PM2.5</th>\n",
       "      <th>PM10</th>\n",
       "      <th>SO2</th>\n",
       "      <th>NO2</th>\n",
       "      <th>CO</th>\n",
       "      <th>O3</th>\n",
       "      <th>TEMP</th>\n",
       "      <th>PRES</th>\n",
       "      <th>DEWP</th>\n",
       "      <th>RAIN</th>\n",
       "      <th>wd</th>\n",
       "      <th>WSPM</th>\n",
       "      <th>station</th>\n",
       "    </tr>\n",
       "  </thead>\n",
       "  <tbody>\n",
       "    <tr>\n",
       "      <th>420758</th>\n",
       "      <td>420759</td>\n",
       "      <td>2017</td>\n",
       "      <td>2</td>\n",
       "      <td>28.0</td>\n",
       "      <td>14.0</td>\n",
       "      <td>6.0</td>\n",
       "      <td>14.0</td>\n",
       "      <td>2.0</td>\n",
       "      <td>7.0</td>\n",
       "      <td>200.0</td>\n",
       "      <td>96.0</td>\n",
       "      <td>14.5</td>\n",
       "      <td>1013.9</td>\n",
       "      <td>-12.7</td>\n",
       "      <td>0.0</td>\n",
       "      <td>NW</td>\n",
       "      <td>5.1</td>\n",
       "      <td>Shunyi</td>\n",
       "    </tr>\n",
       "    <tr>\n",
       "      <th>420759</th>\n",
       "      <td>420760</td>\n",
       "      <td>2017</td>\n",
       "      <td>2</td>\n",
       "      <td>28.0</td>\n",
       "      <td>15.0</td>\n",
       "      <td>6.0</td>\n",
       "      <td>14.0</td>\n",
       "      <td>2.0</td>\n",
       "      <td>8.0</td>\n",
       "      <td>200.0</td>\n",
       "      <td>97.0</td>\n",
       "      <td>15.3</td>\n",
       "      <td>1013.2</td>\n",
       "      <td>-13.0</td>\n",
       "      <td>0.0</td>\n",
       "      <td>WNW</td>\n",
       "      <td>4.2</td>\n",
       "      <td>Shunyi</td>\n",
       "    </tr>\n",
       "    <tr>\n",
       "      <th>420760</th>\n",
       "      <td>420761</td>\n",
       "      <td>2017</td>\n",
       "      <td>2</td>\n",
       "      <td>28.0</td>\n",
       "      <td>16.0</td>\n",
       "      <td>10.0</td>\n",
       "      <td>10.0</td>\n",
       "      <td>2.0</td>\n",
       "      <td>7.0</td>\n",
       "      <td>200.0</td>\n",
       "      <td>99.0</td>\n",
       "      <td>15.1</td>\n",
       "      <td>1012.9</td>\n",
       "      <td>-13.2</td>\n",
       "      <td>0.0</td>\n",
       "      <td>NW</td>\n",
       "      <td>3.3</td>\n",
       "      <td>Shunyi</td>\n",
       "    </tr>\n",
       "    <tr>\n",
       "      <th>420761</th>\n",
       "      <td>420762</td>\n",
       "      <td>2017</td>\n",
       "      <td>2</td>\n",
       "      <td>28.0</td>\n",
       "      <td>17.0</td>\n",
       "      <td>11.0</td>\n",
       "      <td>26.0</td>\n",
       "      <td>3.0</td>\n",
       "      <td>14.0</td>\n",
       "      <td>300.0</td>\n",
       "      <td>92.0</td>\n",
       "      <td>14.6</td>\n",
       "      <td>1013.0</td>\n",
       "      <td>-13.6</td>\n",
       "      <td>0.0</td>\n",
       "      <td>WNW</td>\n",
       "      <td>3.2</td>\n",
       "      <td>Shunyi</td>\n",
       "    </tr>\n",
       "    <tr>\n",
       "      <th>420762</th>\n",
       "      <td>420763</td>\n",
       "      <td>2017</td>\n",
       "      <td>2</td>\n",
       "      <td>28.0</td>\n",
       "      <td>18.0</td>\n",
       "      <td>15.0</td>\n",
       "      <td>35.0</td>\n",
       "      <td>6.0</td>\n",
       "      <td>39.0</td>\n",
       "      <td>500.0</td>\n",
       "      <td>67.0</td>\n",
       "      <td>12.6</td>\n",
       "      <td>1013.5</td>\n",
       "      <td>-11.9</td>\n",
       "      <td>0.0</td>\n",
       "      <td>WSW</td>\n",
       "      <td>1.3</td>\n",
       "      <td>Shunyi</td>\n",
       "    </tr>\n",
       "    <tr>\n",
       "      <th>420763</th>\n",
       "      <td>420764</td>\n",
       "      <td>2017</td>\n",
       "      <td>2</td>\n",
       "      <td>28.0</td>\n",
       "      <td>19.0</td>\n",
       "      <td>27.0</td>\n",
       "      <td>72.0</td>\n",
       "      <td>8.0</td>\n",
       "      <td>92.0</td>\n",
       "      <td>800.0</td>\n",
       "      <td>16.0</td>\n",
       "      <td>10.3</td>\n",
       "      <td>1014.2</td>\n",
       "      <td>-12.4</td>\n",
       "      <td>0.0</td>\n",
       "      <td>W</td>\n",
       "      <td>1.8</td>\n",
       "      <td>Shunyi</td>\n",
       "    </tr>\n",
       "    <tr>\n",
       "      <th>420764</th>\n",
       "      <td>420765</td>\n",
       "      <td>2017</td>\n",
       "      <td>2</td>\n",
       "      <td>28.0</td>\n",
       "      <td>20.0</td>\n",
       "      <td>47.0</td>\n",
       "      <td>55.0</td>\n",
       "      <td>17.0</td>\n",
       "      <td>86.0</td>\n",
       "      <td>1100.0</td>\n",
       "      <td>19.0</td>\n",
       "      <td>9.8</td>\n",
       "      <td>1014.5</td>\n",
       "      <td>-9.9</td>\n",
       "      <td>0.0</td>\n",
       "      <td>NW</td>\n",
       "      <td>1.5</td>\n",
       "      <td>Shunyi</td>\n",
       "    </tr>\n",
       "    <tr>\n",
       "      <th>420765</th>\n",
       "      <td>420766</td>\n",
       "      <td>2017</td>\n",
       "      <td>2</td>\n",
       "      <td>28.0</td>\n",
       "      <td>21.0</td>\n",
       "      <td>18.0</td>\n",
       "      <td>28.0</td>\n",
       "      <td>4.0</td>\n",
       "      <td>30.0</td>\n",
       "      <td>500.0</td>\n",
       "      <td>64.0</td>\n",
       "      <td>9.1</td>\n",
       "      <td>1014.6</td>\n",
       "      <td>-12.7</td>\n",
       "      <td>0.0</td>\n",
       "      <td>NE</td>\n",
       "      <td>1.7</td>\n",
       "      <td>Shunyi</td>\n",
       "    </tr>\n",
       "    <tr>\n",
       "      <th>420766</th>\n",
       "      <td>420767</td>\n",
       "      <td>2017</td>\n",
       "      <td>2</td>\n",
       "      <td>28.0</td>\n",
       "      <td>22.0</td>\n",
       "      <td>18.0</td>\n",
       "      <td>20.0</td>\n",
       "      <td>9.0</td>\n",
       "      <td>33.0</td>\n",
       "      <td>500.0</td>\n",
       "      <td>59.0</td>\n",
       "      <td>7.1</td>\n",
       "      <td>1015.2</td>\n",
       "      <td>-13.2</td>\n",
       "      <td>0.0</td>\n",
       "      <td>WNW</td>\n",
       "      <td>1.8</td>\n",
       "      <td>Shunyi</td>\n",
       "    </tr>\n",
       "    <tr>\n",
       "      <th>420767</th>\n",
       "      <td>420768</td>\n",
       "      <td>2017</td>\n",
       "      <td>2</td>\n",
       "      <td>28.0</td>\n",
       "      <td>23.0</td>\n",
       "      <td>15.0</td>\n",
       "      <td>22.0</td>\n",
       "      <td>13.0</td>\n",
       "      <td>34.0</td>\n",
       "      <td>500.0</td>\n",
       "      <td>60.0</td>\n",
       "      <td>7.4</td>\n",
       "      <td>1014.9</td>\n",
       "      <td>-11.9</td>\n",
       "      <td>0.0</td>\n",
       "      <td>N</td>\n",
       "      <td>1.4</td>\n",
       "      <td>Shunyi</td>\n",
       "    </tr>\n",
       "  </tbody>\n",
       "</table>\n",
       "</div>"
      ],
      "text/plain": [
       "            No  year  month   day  hour  PM2.5  PM10   SO2   NO2      CO  \\\n",
       "420758  420759  2017      2  28.0  14.0    6.0  14.0   2.0   7.0   200.0   \n",
       "420759  420760  2017      2  28.0  15.0    6.0  14.0   2.0   8.0   200.0   \n",
       "420760  420761  2017      2  28.0  16.0   10.0  10.0   2.0   7.0   200.0   \n",
       "420761  420762  2017      2  28.0  17.0   11.0  26.0   3.0  14.0   300.0   \n",
       "420762  420763  2017      2  28.0  18.0   15.0  35.0   6.0  39.0   500.0   \n",
       "420763  420764  2017      2  28.0  19.0   27.0  72.0   8.0  92.0   800.0   \n",
       "420764  420765  2017      2  28.0  20.0   47.0  55.0  17.0  86.0  1100.0   \n",
       "420765  420766  2017      2  28.0  21.0   18.0  28.0   4.0  30.0   500.0   \n",
       "420766  420767  2017      2  28.0  22.0   18.0  20.0   9.0  33.0   500.0   \n",
       "420767  420768  2017      2  28.0  23.0   15.0  22.0  13.0  34.0   500.0   \n",
       "\n",
       "          O3  TEMP    PRES  DEWP  RAIN   wd  WSPM station  \n",
       "420758  96.0  14.5  1013.9 -12.7   0.0   NW   5.1  Shunyi  \n",
       "420759  97.0  15.3  1013.2 -13.0   0.0  WNW   4.2  Shunyi  \n",
       "420760  99.0  15.1  1012.9 -13.2   0.0   NW   3.3  Shunyi  \n",
       "420761  92.0  14.6  1013.0 -13.6   0.0  WNW   3.2  Shunyi  \n",
       "420762  67.0  12.6  1013.5 -11.9   0.0  WSW   1.3  Shunyi  \n",
       "420763  16.0  10.3  1014.2 -12.4   0.0    W   1.8  Shunyi  \n",
       "420764  19.0   9.8  1014.5  -9.9   0.0   NW   1.5  Shunyi  \n",
       "420765  64.0   9.1  1014.6 -12.7   0.0   NE   1.7  Shunyi  \n",
       "420766  59.0   7.1  1015.2 -13.2   0.0  WNW   1.8  Shunyi  \n",
       "420767  60.0   7.4  1014.9 -11.9   0.0    N   1.4  Shunyi  "
      ]
     },
     "execution_count": 13,
     "metadata": {},
     "output_type": "execute_result"
    }
   ],
   "source": [
    "data.tail(10) #printing last 10 rows"
   ]
  },
  {
   "cell_type": "code",
   "execution_count": 14,
   "metadata": {},
   "outputs": [
    {
     "data": {
      "text/plain": [
       "Index(['No', 'year', 'month', 'day', 'hour', 'PM2.5', 'PM10', 'SO2', 'NO2',\n",
       "       'CO', 'O3', 'TEMP', 'PRES', 'DEWP', 'RAIN', 'wd', 'WSPM', 'station'],\n",
       "      dtype='object')"
      ]
     },
     "execution_count": 14,
     "metadata": {},
     "output_type": "execute_result"
    }
   ],
   "source": [
    "data.columns #print the columns/features of the data"
   ]
  },
  {
   "cell_type": "code",
   "execution_count": 15,
   "metadata": {},
   "outputs": [
    {
     "data": {
      "text/html": [
       "<div>\n",
       "<style scoped>\n",
       "    .dataframe tbody tr th:only-of-type {\n",
       "        vertical-align: middle;\n",
       "    }\n",
       "\n",
       "    .dataframe tbody tr th {\n",
       "        vertical-align: top;\n",
       "    }\n",
       "\n",
       "    .dataframe thead th {\n",
       "        text-align: right;\n",
       "    }\n",
       "</style>\n",
       "<table border=\"1\" class=\"dataframe\">\n",
       "  <thead>\n",
       "    <tr style=\"text-align: right;\">\n",
       "      <th></th>\n",
       "      <th>No</th>\n",
       "      <th>year</th>\n",
       "      <th>month</th>\n",
       "      <th>day</th>\n",
       "      <th>hour</th>\n",
       "      <th>PM2.5</th>\n",
       "      <th>PM10</th>\n",
       "      <th>SO2</th>\n",
       "      <th>NO2</th>\n",
       "      <th>CO</th>\n",
       "      <th>O3</th>\n",
       "      <th>TEMP</th>\n",
       "      <th>PRES</th>\n",
       "      <th>DEWP</th>\n",
       "      <th>RAIN</th>\n",
       "      <th>WSPM</th>\n",
       "    </tr>\n",
       "  </thead>\n",
       "  <tbody>\n",
       "    <tr>\n",
       "      <th>count</th>\n",
       "      <td>420768.00000</td>\n",
       "      <td>420768.000000</td>\n",
       "      <td>420768.000000</td>\n",
       "      <td>420768.000000</td>\n",
       "      <td>420768.000000</td>\n",
       "      <td>412779.000000</td>\n",
       "      <td>414872.000000</td>\n",
       "      <td>411960.000000</td>\n",
       "      <td>409803.000000</td>\n",
       "      <td>402589.000000</td>\n",
       "      <td>407930.000000</td>\n",
       "      <td>420390.000000</td>\n",
       "      <td>420395.000000</td>\n",
       "      <td>420385.000000</td>\n",
       "      <td>420398.000000</td>\n",
       "      <td>420464.000000</td>\n",
       "    </tr>\n",
       "    <tr>\n",
       "      <th>mean</th>\n",
       "      <td>210384.50000</td>\n",
       "      <td>2014.524013</td>\n",
       "      <td>6.229352</td>\n",
       "      <td>74.980975</td>\n",
       "      <td>20.008631</td>\n",
       "      <td>2617.582884</td>\n",
       "      <td>2874.364793</td>\n",
       "      <td>264.138983</td>\n",
       "      <td>353.327022</td>\n",
       "      <td>23458.257036</td>\n",
       "      <td>-109.656035</td>\n",
       "      <td>97.618492</td>\n",
       "      <td>772.400925</td>\n",
       "      <td>187.180591</td>\n",
       "      <td>0.059136</td>\n",
       "      <td>-15.922061</td>\n",
       "    </tr>\n",
       "    <tr>\n",
       "      <th>std</th>\n",
       "      <td>121465.40337</td>\n",
       "      <td>1.217152</td>\n",
       "      <td>3.442458</td>\n",
       "      <td>230.951099</td>\n",
       "      <td>33.691802</td>\n",
       "      <td>9741.118760</td>\n",
       "      <td>10660.470696</td>\n",
       "      <td>1000.877816</td>\n",
       "      <td>1178.470816</td>\n",
       "      <td>90166.198084</td>\n",
       "      <td>655.441765</td>\n",
       "      <td>326.810962</td>\n",
       "      <td>923.875995</td>\n",
       "      <td>717.192375</td>\n",
       "      <td>0.789176</td>\n",
       "      <td>68.369591</td>\n",
       "    </tr>\n",
       "    <tr>\n",
       "      <th>min</th>\n",
       "      <td>1.00000</td>\n",
       "      <td>2013.000000</td>\n",
       "      <td>1.000000</td>\n",
       "      <td>1.000000</td>\n",
       "      <td>0.000000</td>\n",
       "      <td>2.000000</td>\n",
       "      <td>2.000000</td>\n",
       "      <td>0.285600</td>\n",
       "      <td>1.026500</td>\n",
       "      <td>100.000000</td>\n",
       "      <td>-9679.500000</td>\n",
       "      <td>-19.900000</td>\n",
       "      <td>-4721.266494</td>\n",
       "      <td>-43.400000</td>\n",
       "      <td>0.000000</td>\n",
       "      <td>-422.099603</td>\n",
       "    </tr>\n",
       "    <tr>\n",
       "      <th>25%</th>\n",
       "      <td>105192.75000</td>\n",
       "      <td>2013.000000</td>\n",
       "      <td>3.000000</td>\n",
       "      <td>9.000000</td>\n",
       "      <td>6.000000</td>\n",
       "      <td>23.000000</td>\n",
       "      <td>39.000000</td>\n",
       "      <td>3.000000</td>\n",
       "      <td>24.000000</td>\n",
       "      <td>500.000000</td>\n",
       "      <td>5.000000</td>\n",
       "      <td>4.000000</td>\n",
       "      <td>1000.000000</td>\n",
       "      <td>-7.900000</td>\n",
       "      <td>0.000000</td>\n",
       "      <td>0.800000</td>\n",
       "    </tr>\n",
       "    <tr>\n",
       "      <th>50%</th>\n",
       "      <td>210384.50000</td>\n",
       "      <td>2014.000000</td>\n",
       "      <td>6.000000</td>\n",
       "      <td>17.000000</td>\n",
       "      <td>13.000000</td>\n",
       "      <td>63.000000</td>\n",
       "      <td>91.000000</td>\n",
       "      <td>8.000000</td>\n",
       "      <td>47.000000</td>\n",
       "      <td>1000.000000</td>\n",
       "      <td>38.000000</td>\n",
       "      <td>16.500000</td>\n",
       "      <td>1008.700000</td>\n",
       "      <td>5.500000</td>\n",
       "      <td>0.000000</td>\n",
       "      <td>1.300000</td>\n",
       "    </tr>\n",
       "    <tr>\n",
       "      <th>75%</th>\n",
       "      <td>315576.25000</td>\n",
       "      <td>2016.000000</td>\n",
       "      <td>9.000000</td>\n",
       "      <td>25.000000</td>\n",
       "      <td>19.000000</td>\n",
       "      <td>136.000000</td>\n",
       "      <td>171.000000</td>\n",
       "      <td>26.000000</td>\n",
       "      <td>82.000000</td>\n",
       "      <td>1900.000000</td>\n",
       "      <td>78.000000</td>\n",
       "      <td>25.200000</td>\n",
       "      <td>1018.000000</td>\n",
       "      <td>17.200000</td>\n",
       "      <td>0.000000</td>\n",
       "      <td>2.100000</td>\n",
       "    </tr>\n",
       "    <tr>\n",
       "      <th>max</th>\n",
       "      <td>420768.00000</td>\n",
       "      <td>2017.000000</td>\n",
       "      <td>12.000000</td>\n",
       "      <td>1452.932329</td>\n",
       "      <td>216.624099</td>\n",
       "      <td>59955.089040</td>\n",
       "      <td>65788.708090</td>\n",
       "      <td>8079.721805</td>\n",
       "      <td>7528.392953</td>\n",
       "      <td>648993.391500</td>\n",
       "      <td>674.000000</td>\n",
       "      <td>2042.575594</td>\n",
       "      <td>1042.800000</td>\n",
       "      <td>4455.516930</td>\n",
       "      <td>72.500000</td>\n",
       "      <td>13.200000</td>\n",
       "    </tr>\n",
       "  </tbody>\n",
       "</table>\n",
       "</div>"
      ],
      "text/plain": [
       "                 No           year          month            day  \\\n",
       "count  420768.00000  420768.000000  420768.000000  420768.000000   \n",
       "mean   210384.50000    2014.524013       6.229352      74.980975   \n",
       "std    121465.40337       1.217152       3.442458     230.951099   \n",
       "min         1.00000    2013.000000       1.000000       1.000000   \n",
       "25%    105192.75000    2013.000000       3.000000       9.000000   \n",
       "50%    210384.50000    2014.000000       6.000000      17.000000   \n",
       "75%    315576.25000    2016.000000       9.000000      25.000000   \n",
       "max    420768.00000    2017.000000      12.000000    1452.932329   \n",
       "\n",
       "                hour          PM2.5           PM10            SO2  \\\n",
       "count  420768.000000  412779.000000  414872.000000  411960.000000   \n",
       "mean       20.008631    2617.582884    2874.364793     264.138983   \n",
       "std        33.691802    9741.118760   10660.470696    1000.877816   \n",
       "min         0.000000       2.000000       2.000000       0.285600   \n",
       "25%         6.000000      23.000000      39.000000       3.000000   \n",
       "50%        13.000000      63.000000      91.000000       8.000000   \n",
       "75%        19.000000     136.000000     171.000000      26.000000   \n",
       "max       216.624099   59955.089040   65788.708090    8079.721805   \n",
       "\n",
       "                 NO2             CO             O3           TEMP  \\\n",
       "count  409803.000000  402589.000000  407930.000000  420390.000000   \n",
       "mean      353.327022   23458.257036    -109.656035      97.618492   \n",
       "std      1178.470816   90166.198084     655.441765     326.810962   \n",
       "min         1.026500     100.000000   -9679.500000     -19.900000   \n",
       "25%        24.000000     500.000000       5.000000       4.000000   \n",
       "50%        47.000000    1000.000000      38.000000      16.500000   \n",
       "75%        82.000000    1900.000000      78.000000      25.200000   \n",
       "max      7528.392953  648993.391500     674.000000    2042.575594   \n",
       "\n",
       "                PRES           DEWP           RAIN           WSPM  \n",
       "count  420395.000000  420385.000000  420398.000000  420464.000000  \n",
       "mean      772.400925     187.180591       0.059136     -15.922061  \n",
       "std       923.875995     717.192375       0.789176      68.369591  \n",
       "min     -4721.266494     -43.400000       0.000000    -422.099603  \n",
       "25%      1000.000000      -7.900000       0.000000       0.800000  \n",
       "50%      1008.700000       5.500000       0.000000       1.300000  \n",
       "75%      1018.000000      17.200000       0.000000       2.100000  \n",
       "max      1042.800000    4455.516930      72.500000      13.200000  "
      ]
     },
     "execution_count": 15,
     "metadata": {},
     "output_type": "execute_result"
    }
   ],
   "source": [
    "data.describe() #basic info of the dataset"
   ]
  },
  {
   "cell_type": "markdown",
   "metadata": {},
   "source": [
    "## Data Shape (DIMENSION)\n"
   ]
  },
  {
   "cell_type": "code",
   "execution_count": 16,
   "metadata": {},
   "outputs": [
    {
     "data": {
      "text/plain": [
       "(420768, 18)"
      ]
     },
     "execution_count": 16,
     "metadata": {},
     "output_type": "execute_result"
    }
   ],
   "source": [
    "data.shape #dimensions of the data"
   ]
  },
  {
   "cell_type": "markdown",
   "metadata": {},
   "source": [
    "## Visualization of Stations with Highest Pollutants"
   ]
  },
  {
   "cell_type": "code",
   "execution_count": 17,
   "metadata": {},
   "outputs": [
    {
     "data": {
      "image/png": "[encoded data removed]",
      "text/plain": [
       "<Figure size 432x288 with 1 Axes>"
      ]
     },
     "metadata": {
      "needs_background": "light"
     },
     "output_type": "display_data"
    }
   ],
   "source": [
    "data[['SO2','station']].groupby([\"station\"]).mean().sort_values(by='SO2').head(20).plot.bar(color='b')\n",
    "plt.show()"
   ]
  },
  {
   "cell_type": "code",
   "execution_count": 18,
   "metadata": {},
   "outputs": [
    {
     "data": {
      "image/png": "[encoded data removed]",
      "text/plain": [
       "<Figure size 432x288 with 1 Axes>"
      ]
     },
     "metadata": {
      "needs_background": "light"
     },
     "output_type": "display_data"
    }
   ],
   "source": [
    "data[['NO2','station']].groupby([\"station\"]).mean().sort_values(by='NO2').plot.bar(color='g')\n",
    "plt.show()"
   ]
  },
  {
   "cell_type": "code",
   "execution_count": 19,
   "metadata": {},
   "outputs": [
    {
     "data": {
      "image/png": "[encoded data removed]",
      "text/plain": [
       "<Figure size 432x288 with 1 Axes>"
      ]
     },
     "metadata": {
      "needs_background": "light"
     },
     "output_type": "display_data"
    }
   ],
   "source": [
    "data[['PM2.5','station']].groupby([\"station\"]).mean().sort_values(by='PM2.5').plot.bar(color='brown')\n",
    "plt.show()"
   ]
  },
  {
   "cell_type": "code",
   "execution_count": 20,
   "metadata": {},
   "outputs": [
    {
     "data": {
      "image/png": "[encoded data removed]",
      "text/plain": [
       "<Figure size 432x288 with 1 Axes>"
      ]
     },
     "metadata": {
      "needs_background": "light"
     },
     "output_type": "display_data"
    }
   ],
   "source": [
    "data[['PM10','station']].groupby([\"station\"]).mean().sort_values(by='PM10').plot.bar(color='r')\n",
    "plt.show()"
   ]
  },
  {
   "cell_type": "code",
   "execution_count": 21,
   "metadata": {},
   "outputs": [
    {
     "data": {
      "image/png": "[encoded data removed]",
      "text/plain": [
       "<Figure size 432x288 with 1 Axes>"
      ]
     },
     "metadata": {
      "needs_background": "light"
     },
     "output_type": "display_data"
    }
   ],
   "source": [
    "data[['CO','station']].groupby([\"station\"]).mean().sort_values(by='CO').plot.bar(color='purple')\n",
    "plt.show()"
   ]
  },
  {
   "cell_type": "code",
   "execution_count": 22,
   "metadata": {},
   "outputs": [
    {
     "data": {
      "image/png": "[encoded data removed]",
      "text/plain": [
       "<Figure size 432x288 with 1 Axes>"
      ]
     },
     "metadata": {
      "needs_background": "light"
     },
     "output_type": "display_data"
    }
   ],
   "source": [
    "data[['O3','station']].groupby([\"station\"]).mean().sort_values(by='O3').plot.bar(color='cyan')\n",
    "plt.show()"
   ]
  },
  {
   "cell_type": "markdown",
   "metadata": {},
   "source": [
    "### Null Values Count"
   ]
  },
  {
   "cell_type": "code",
   "execution_count": 23,
   "metadata": {},
   "outputs": [
    {
     "data": {
      "text/plain": [
       "No             0\n",
       "year           0\n",
       "month          0\n",
       "day            0\n",
       "hour           0\n",
       "PM2.5       7989\n",
       "PM10        5896\n",
       "SO2         8808\n",
       "NO2        10965\n",
       "CO         18179\n",
       "O3         12838\n",
       "TEMP         378\n",
       "PRES         373\n",
       "DEWP         383\n",
       "RAIN         370\n",
       "wd          1744\n",
       "WSPM         304\n",
       "station        0\n",
       "dtype: int64"
      ]
     },
     "execution_count": 23,
     "metadata": {},
     "output_type": "execute_result"
    }
   ],
   "source": [
    "data.isna().sum() #print the sum of null values for each columns"
   ]
  },
  {
   "cell_type": "markdown",
   "metadata": {},
   "source": [
    "There are no unnecessary columns to be dropped here."
   ]
  },
  {
   "cell_type": "markdown",
   "metadata": {},
   "source": [
    "### Calculate the total missing values and their percentage"
   ]
  },
  {
   "cell_type": "code",
   "execution_count": 24,
   "metadata": {},
   "outputs": [],
   "source": [
    "total = data.isnull().sum().sort_values(ascending=False)"
   ]
  },
  {
   "cell_type": "code",
   "execution_count": 25,
   "metadata": {},
   "outputs": [
    {
     "data": {
      "text/plain": [
       "CO       18179\n",
       "O3       12838\n",
       "NO2      10965\n",
       "SO2       8808\n",
       "PM2.5     7989\n",
       "dtype: int64"
      ]
     },
     "execution_count": 25,
     "metadata": {},
     "output_type": "execute_result"
    }
   ],
   "source": [
    "total.head()"
   ]
  },
  {
   "cell_type": "markdown",
   "metadata": {},
   "source": [
    "We then calculate the percent of null values for each columns (sum of null values / total non-null value) *100\n"
   ]
  },
  {
   "cell_type": "code",
   "execution_count": 26,
   "metadata": {},
   "outputs": [],
   "source": [
    "percent = (data.isnull().sum()/data.isnull().count()*100).sort_values(ascending=False)  #count(returns Non-NAN value)"
   ]
  },
  {
   "cell_type": "code",
   "execution_count": 27,
   "metadata": {},
   "outputs": [],
   "source": [
    "missing_data = pd.concat([total, percent], axis=1, keys=['Total', 'Percent'])"
   ]
  },
  {
   "cell_type": "code",
   "execution_count": 28,
   "metadata": {},
   "outputs": [
    {
     "data": {
      "text/html": [
       "<div>\n",
       "<style scoped>\n",
       "    .dataframe tbody tr th:only-of-type {\n",
       "        vertical-align: middle;\n",
       "    }\n",
       "\n",
       "    .dataframe tbody tr th {\n",
       "        vertical-align: top;\n",
       "    }\n",
       "\n",
       "    .dataframe thead th {\n",
       "        text-align: right;\n",
       "    }\n",
       "</style>\n",
       "<table border=\"1\" class=\"dataframe\">\n",
       "  <thead>\n",
       "    <tr style=\"text-align: right;\">\n",
       "      <th></th>\n",
       "      <th>Total</th>\n",
       "      <th>Percent</th>\n",
       "    </tr>\n",
       "  </thead>\n",
       "  <tbody>\n",
       "    <tr>\n",
       "      <th>CO</th>\n",
       "      <td>18179</td>\n",
       "      <td>4.320433</td>\n",
       "    </tr>\n",
       "    <tr>\n",
       "      <th>O3</th>\n",
       "      <td>12838</td>\n",
       "      <td>3.051088</td>\n",
       "    </tr>\n",
       "    <tr>\n",
       "      <th>NO2</th>\n",
       "      <td>10965</td>\n",
       "      <td>2.605949</td>\n",
       "    </tr>\n",
       "    <tr>\n",
       "      <th>SO2</th>\n",
       "      <td>8808</td>\n",
       "      <td>2.093315</td>\n",
       "    </tr>\n",
       "    <tr>\n",
       "      <th>PM2.5</th>\n",
       "      <td>7989</td>\n",
       "      <td>1.898671</td>\n",
       "    </tr>\n",
       "  </tbody>\n",
       "</table>\n",
       "</div>"
      ],
      "text/plain": [
       "       Total   Percent\n",
       "CO     18179  4.320433\n",
       "O3     12838  3.051088\n",
       "NO2    10965  2.605949\n",
       "SO2     8808  2.093315\n",
       "PM2.5   7989  1.898671"
      ]
     },
     "execution_count": 28,
     "metadata": {},
     "output_type": "execute_result"
    }
   ],
   "source": [
    "missing_data.head()"
   ]
  },
  {
   "cell_type": "markdown",
   "metadata": {},
   "source": [
    "### Percentage of Missing Values (Bar Plot)"
   ]
  },
  {
   "cell_type": "code",
   "execution_count": 29,
   "metadata": {},
   "outputs": [
    {
     "data": {
      "text/plain": [
       "Text(0.5, 1.0, 'Percent missing data by feature')"
      ]
     },
     "execution_count": 29,
     "metadata": {},
     "output_type": "execute_result"
    },
    {
     "data": {
      "image/png": "[encoded data removed]",
      "text/plain": [
       "<Figure size 432x288 with 1 Axes>"
      ]
     },
     "metadata": {
      "needs_background": "light"
     },
     "output_type": "display_data"
    }
   ],
   "source": [
    "sns.barplot(x=missing_data.index, y=missing_data['Percent'])\n",
    "plt.xlabel('Features', fontsize=20)\n",
    "plt.ylabel('Percent of missing values', fontsize=20)\n",
    "plt.title('Percent missing data by feature', fontsize=20)"
   ]
  },
  {
   "cell_type": "markdown",
   "metadata": {},
   "source": [
    "### MEAN DISTRIBUTION BY STATION"
   ]
  },
  {
   "cell_type": "code",
   "execution_count": 31,
   "metadata": {},
   "outputs": [
    {
     "data": {
      "text/html": [
       "<div>\n",
       "<style scoped>\n",
       "    .dataframe tbody tr th:only-of-type {\n",
       "        vertical-align: middle;\n",
       "    }\n",
       "\n",
       "    .dataframe tbody tr th {\n",
       "        vertical-align: top;\n",
       "    }\n",
       "\n",
       "    .dataframe thead th {\n",
       "        text-align: right;\n",
       "    }\n",
       "</style>\n",
       "<table border=\"1\" class=\"dataframe\">\n",
       "  <thead>\n",
       "    <tr style=\"text-align: right;\">\n",
       "      <th></th>\n",
       "      <th>O3</th>\n",
       "      <th>CO</th>\n",
       "      <th>PM2.5</th>\n",
       "      <th>PM10</th>\n",
       "      <th>SO2</th>\n",
       "      <th>NO2</th>\n",
       "    </tr>\n",
       "    <tr>\n",
       "      <th>station</th>\n",
       "      <th></th>\n",
       "      <th></th>\n",
       "      <th></th>\n",
       "      <th></th>\n",
       "      <th></th>\n",
       "      <th></th>\n",
       "    </tr>\n",
       "  </thead>\n",
       "  <tbody>\n",
       "    <tr>\n",
       "      <th>Aotizhongxin</th>\n",
       "      <td>56.353358</td>\n",
       "      <td>1262.945145</td>\n",
       "      <td>82.773611</td>\n",
       "      <td>110.060391</td>\n",
       "      <td>17.375901</td>\n",
       "      <td>59.305833</td>\n",
       "    </tr>\n",
       "    <tr>\n",
       "      <th>Changping</th>\n",
       "      <td>57.940003</td>\n",
       "      <td>1152.301345</td>\n",
       "      <td>71.099743</td>\n",
       "      <td>94.657871</td>\n",
       "      <td>14.958906</td>\n",
       "      <td>44.182086</td>\n",
       "    </tr>\n",
       "    <tr>\n",
       "      <th>Dingling</th>\n",
       "      <td>68.548371</td>\n",
       "      <td>904.896073</td>\n",
       "      <td>65.989497</td>\n",
       "      <td>83.739723</td>\n",
       "      <td>11.749650</td>\n",
       "      <td>27.585467</td>\n",
       "    </tr>\n",
       "    <tr>\n",
       "      <th>Dongsi</th>\n",
       "      <td>-1898.522484</td>\n",
       "      <td>261538.064845</td>\n",
       "      <td>29961.319588</td>\n",
       "      <td>32881.657818</td>\n",
       "      <td>2973.764531</td>\n",
       "      <td>3637.194746</td>\n",
       "    </tr>\n",
       "    <tr>\n",
       "      <th>Guanyuan</th>\n",
       "      <td>55.795044</td>\n",
       "      <td>1271.294377</td>\n",
       "      <td>82.933372</td>\n",
       "      <td>109.023303</td>\n",
       "      <td>17.590941</td>\n",
       "      <td>57.901643</td>\n",
       "    </tr>\n",
       "    <tr>\n",
       "      <th>Gucheng</th>\n",
       "      <td>57.694879</td>\n",
       "      <td>1323.974423</td>\n",
       "      <td>83.852089</td>\n",
       "      <td>118.861978</td>\n",
       "      <td>15.366162</td>\n",
       "      <td>55.871075</td>\n",
       "    </tr>\n",
       "    <tr>\n",
       "      <th>Huairou</th>\n",
       "      <td>59.824713</td>\n",
       "      <td>1022.554545</td>\n",
       "      <td>69.626367</td>\n",
       "      <td>91.482690</td>\n",
       "      <td>12.121553</td>\n",
       "      <td>32.497250</td>\n",
       "    </tr>\n",
       "    <tr>\n",
       "      <th>Nongzhanguan</th>\n",
       "      <td>58.534682</td>\n",
       "      <td>1324.350198</td>\n",
       "      <td>84.838483</td>\n",
       "      <td>108.991096</td>\n",
       "      <td>18.689242</td>\n",
       "      <td>58.097172</td>\n",
       "    </tr>\n",
       "    <tr>\n",
       "      <th>Shunyi</th>\n",
       "      <td>55.201321</td>\n",
       "      <td>1187.063979</td>\n",
       "      <td>79.491602</td>\n",
       "      <td>98.737026</td>\n",
       "      <td>13.572039</td>\n",
       "      <td>43.908865</td>\n",
       "    </tr>\n",
       "    <tr>\n",
       "      <th>Tiantan</th>\n",
       "      <td>55.984297</td>\n",
       "      <td>1298.303318</td>\n",
       "      <td>82.164911</td>\n",
       "      <td>106.363672</td>\n",
       "      <td>14.367615</td>\n",
       "      <td>53.162646</td>\n",
       "    </tr>\n",
       "    <tr>\n",
       "      <th>Wanliu</th>\n",
       "      <td>48.873614</td>\n",
       "      <td>1319.353513</td>\n",
       "      <td>83.374716</td>\n",
       "      <td>110.464618</td>\n",
       "      <td>18.376481</td>\n",
       "      <td>65.258789</td>\n",
       "    </tr>\n",
       "    <tr>\n",
       "      <th>Wanshouxigong</th>\n",
       "      <td>56.229904</td>\n",
       "      <td>1370.395031</td>\n",
       "      <td>85.024136</td>\n",
       "      <td>112.223459</td>\n",
       "      <td>17.148603</td>\n",
       "      <td>55.529560</td>\n",
       "    </tr>\n",
       "  </tbody>\n",
       "</table>\n",
       "</div>"
      ],
      "text/plain": [
       "                        O3             CO         PM2.5          PM10  \\\n",
       "station                                                                 \n",
       "Aotizhongxin     56.353358    1262.945145     82.773611    110.060391   \n",
       "Changping        57.940003    1152.301345     71.099743     94.657871   \n",
       "Dingling         68.548371     904.896073     65.989497     83.739723   \n",
       "Dongsi        -1898.522484  261538.064845  29961.319588  32881.657818   \n",
       "Guanyuan         55.795044    1271.294377     82.933372    109.023303   \n",
       "Gucheng          57.694879    1323.974423     83.852089    118.861978   \n",
       "Huairou          59.824713    1022.554545     69.626367     91.482690   \n",
       "Nongzhanguan     58.534682    1324.350198     84.838483    108.991096   \n",
       "Shunyi           55.201321    1187.063979     79.491602     98.737026   \n",
       "Tiantan          55.984297    1298.303318     82.164911    106.363672   \n",
       "Wanliu           48.873614    1319.353513     83.374716    110.464618   \n",
       "Wanshouxigong    56.229904    1370.395031     85.024136    112.223459   \n",
       "\n",
       "                       SO2          NO2  \n",
       "station                                  \n",
       "Aotizhongxin     17.375901    59.305833  \n",
       "Changping        14.958906    44.182086  \n",
       "Dingling         11.749650    27.585467  \n",
       "Dongsi         2973.764531  3637.194746  \n",
       "Guanyuan         17.590941    57.901643  \n",
       "Gucheng          15.366162    55.871075  \n",
       "Huairou          12.121553    32.497250  \n",
       "Nongzhanguan     18.689242    58.097172  \n",
       "Shunyi           13.572039    43.908865  \n",
       "Tiantan          14.367615    53.162646  \n",
       "Wanliu           18.376481    65.258789  \n",
       "Wanshouxigong    17.148603    55.529560  "
      ]
     },
     "execution_count": 31,
     "metadata": {},
     "output_type": "execute_result"
    }
   ],
   "source": [
    "data.groupby('station')[['O3', 'CO','PM2.5','PM10','SO2','NO2']].mean()"
   ]
  },
  {
   "cell_type": "markdown",
   "metadata": {},
   "source": [
    "### CHECKING DATA DISTRIBUTION\n"
   ]
  },
  {
   "cell_type": "code",
   "execution_count": 34,
   "metadata": {},
   "outputs": [
    {
     "data": {
      "text/plain": [
       "(array([3.08149e+05, 5.29950e+04, 1.18760e+04, 5.64000e+02, 1.30000e+01,\n",
       "        5.00000e+00, 2.00000e+00, 0.00000e+00, 0.00000e+00, 0.00000e+00]),\n",
       " array([   0.,  100.,  200.,  300.,  400.,  500.,  600.,  700.,  800.,\n",
       "         900., 1000.]),\n",
       " <a list of 10 Patch objects>)"
      ]
     },
     "execution_count": 34,
     "metadata": {},
     "output_type": "execute_result"
    },
    {
     "data": {
      "image/png": "[encoded data removed]",
      "text/plain": [
       "<Figure size 432x288 with 1 Axes>"
      ]
     },
     "metadata": {
      "needs_background": "light"
     },
     "output_type": "display_data"
    }
   ],
   "source": [
    "plt.hist(data.O3,range=(0.0,1000)) #O3"
   ]
  },
  {
   "cell_type": "code",
   "execution_count": 36,
   "metadata": {},
   "outputs": [
    {
     "data": {
      "text/plain": [
       "(array([3.5036e+05, 2.3516e+04, 3.8570e+03, 9.9600e+02, 3.6800e+02,\n",
       "        3.2200e+02, 3.1100e+02, 3.0700e+02, 3.0600e+02, 3.1000e+02]),\n",
       " array([  0.,  50., 100., 150., 200., 250., 300., 350., 400., 450., 500.]),\n",
       " <a list of 10 Patch objects>)"
      ]
     },
     "execution_count": 36,
     "metadata": {},
     "output_type": "execute_result"
    },
    {
     "data": {
      "image/png": "[encoded data removed]",
      "text/plain": [
       "<Figure size 432x288 with 1 Axes>"
      ]
     },
     "metadata": {
      "needs_background": "light"
     },
     "output_type": "display_data"
    }
   ],
   "source": [
    "plt.hist(data.SO2,range=(0,500)) #SO2"
   ]
  },
  {
   "cell_type": "code",
   "execution_count": 38,
   "metadata": {},
   "outputs": [
    {
     "data": {
      "text/plain": [
       "(array([213298., 125431.,  32046.,   4930.,    814.,    389.,    356.,\n",
       "           298.,    231.,    231.]),\n",
       " array([  0.,  50., 100., 150., 200., 250., 300., 350., 400., 450., 500.]),\n",
       " <a list of 10 Patch objects>)"
      ]
     },
     "execution_count": 38,
     "metadata": {},
     "output_type": "execute_result"
    },
    {
     "data": {
      "image/png": "[encoded data removed]",
      "text/plain": [
       "<Figure size 432x288 with 1 Axes>"
      ]
     },
     "metadata": {
      "needs_background": "light"
     },
     "output_type": "display_data"
    }
   ],
   "source": [
    "plt.hist(data.NO2,range=(0,500)) #NO2"
   ]
  },
  {
   "cell_type": "code",
   "execution_count": 42,
   "metadata": {},
   "outputs": [
    {
     "data": {
      "text/plain": [
       "(array([127120.,  94070.,  69038.,  40808.,  22261.,  12121.,   6484.,\n",
       "          3516.,   1827.,   1126.]),\n",
       " array([  0.,  50., 100., 150., 200., 250., 300., 350., 400., 450., 500.]),\n",
       " <a list of 10 Patch objects>)"
      ]
     },
     "execution_count": 42,
     "metadata": {},
     "output_type": "execute_result"
    },
    {
     "data": {
      "image/png": "[encoded data removed]",
      "text/plain": [
       "<Figure size 432x288 with 1 Axes>"
      ]
     },
     "metadata": {
      "needs_background": "light"
     },
     "output_type": "display_data"
    }
   ],
   "source": [
    "plt.hist(data.PM10,range=(0,500)) #PM10"
   ]
  },
  {
   "cell_type": "markdown",
   "metadata": {},
   "source": [
    "### FILL MISSING VALUES BY MEAN (GROUP BY STATION)"
   ]
  },
  {
   "cell_type": "code",
   "execution_count": 44,
   "metadata": {},
   "outputs": [],
   "source": [
    "grp_state = data.groupby('station')"
   ]
  },
  {
   "cell_type": "code",
   "execution_count": 47,
   "metadata": {},
   "outputs": [],
   "source": [
    "def impute_mean_by_station(series):\n",
    "    return series.fillna(series.mean())"
   ]
  },
  {
   "cell_type": "code",
   "execution_count": 48,
   "metadata": {},
   "outputs": [],
   "source": [
    "data['PM2.5']=grp_state['PM2.5'].transform(impute_mean_by_station)  #fill value with mean value group by station\n",
    "data['SO2']=grp_state['SO2'].transform(impute_mean_by_station)\n",
    "data['NO2']=grp_state['NO2'].transform(impute_mean_by_station)\n",
    "data['O3']=grp_state['O3'].transform(impute_mean_by_station)\n",
    "data['CO']=grp_state['CO'].transform(impute_mean_by_station)\n",
    "data['PM10']=grp_state['PM10'].transform(impute_mean_by_station)"
   ]
  },
  {
   "cell_type": "code",
   "execution_count": 49,
   "metadata": {},
   "outputs": [
    {
     "data": {
      "text/html": [
       "<div>\n",
       "<style scoped>\n",
       "    .dataframe tbody tr th:only-of-type {\n",
       "        vertical-align: middle;\n",
       "    }\n",
       "\n",
       "    .dataframe tbody tr th {\n",
       "        vertical-align: top;\n",
       "    }\n",
       "\n",
       "    .dataframe thead th {\n",
       "        text-align: right;\n",
       "    }\n",
       "</style>\n",
       "<table border=\"1\" class=\"dataframe\">\n",
       "  <thead>\n",
       "    <tr style=\"text-align: right;\">\n",
       "      <th></th>\n",
       "      <th>No</th>\n",
       "      <th>year</th>\n",
       "      <th>month</th>\n",
       "      <th>day</th>\n",
       "      <th>hour</th>\n",
       "      <th>PM2.5</th>\n",
       "      <th>PM10</th>\n",
       "      <th>SO2</th>\n",
       "      <th>NO2</th>\n",
       "      <th>CO</th>\n",
       "      <th>O3</th>\n",
       "      <th>TEMP</th>\n",
       "      <th>PRES</th>\n",
       "      <th>DEWP</th>\n",
       "      <th>RAIN</th>\n",
       "      <th>WSPM</th>\n",
       "    </tr>\n",
       "  </thead>\n",
       "  <tbody>\n",
       "    <tr>\n",
       "      <th>count</th>\n",
       "      <td>420768.00000</td>\n",
       "      <td>420768.000000</td>\n",
       "      <td>420768.000000</td>\n",
       "      <td>420768.000000</td>\n",
       "      <td>420768.000000</td>\n",
       "      <td>420768.000000</td>\n",
       "      <td>420768.000000</td>\n",
       "      <td>420768.000000</td>\n",
       "      <td>420768.000000</td>\n",
       "      <td>420768.000000</td>\n",
       "      <td>420768.000000</td>\n",
       "      <td>420390.000000</td>\n",
       "      <td>420395.000000</td>\n",
       "      <td>420385.000000</td>\n",
       "      <td>420398.000000</td>\n",
       "      <td>420464.000000</td>\n",
       "    </tr>\n",
       "    <tr>\n",
       "      <th>mean</th>\n",
       "      <td>210384.50000</td>\n",
       "      <td>2014.524013</td>\n",
       "      <td>6.229352</td>\n",
       "      <td>74.980975</td>\n",
       "      <td>20.008631</td>\n",
       "      <td>2569.374010</td>\n",
       "      <td>2835.521970</td>\n",
       "      <td>262.090135</td>\n",
       "      <td>349.207928</td>\n",
       "      <td>22914.624732</td>\n",
       "      <td>-105.628525</td>\n",
       "      <td>97.618492</td>\n",
       "      <td>772.400925</td>\n",
       "      <td>187.180591</td>\n",
       "      <td>0.059136</td>\n",
       "      <td>-15.922061</td>\n",
       "    </tr>\n",
       "    <tr>\n",
       "      <th>std</th>\n",
       "      <td>121465.40337</td>\n",
       "      <td>1.217152</td>\n",
       "      <td>3.442458</td>\n",
       "      <td>230.951099</td>\n",
       "      <td>33.691802</td>\n",
       "      <td>9654.420566</td>\n",
       "      <td>10590.530737</td>\n",
       "      <td>994.920301</td>\n",
       "      <td>1168.953512</td>\n",
       "      <td>88825.232316</td>\n",
       "      <td>647.318085</td>\n",
       "      <td>326.810962</td>\n",
       "      <td>923.875995</td>\n",
       "      <td>717.192375</td>\n",
       "      <td>0.789176</td>\n",
       "      <td>68.369591</td>\n",
       "    </tr>\n",
       "    <tr>\n",
       "      <th>min</th>\n",
       "      <td>1.00000</td>\n",
       "      <td>2013.000000</td>\n",
       "      <td>1.000000</td>\n",
       "      <td>1.000000</td>\n",
       "      <td>0.000000</td>\n",
       "      <td>2.000000</td>\n",
       "      <td>2.000000</td>\n",
       "      <td>0.285600</td>\n",
       "      <td>1.026500</td>\n",
       "      <td>100.000000</td>\n",
       "      <td>-9679.500000</td>\n",
       "      <td>-19.900000</td>\n",
       "      <td>-4721.266494</td>\n",
       "      <td>-43.400000</td>\n",
       "      <td>0.000000</td>\n",
       "      <td>-422.099603</td>\n",
       "    </tr>\n",
       "    <tr>\n",
       "      <th>25%</th>\n",
       "      <td>105192.75000</td>\n",
       "      <td>2013.000000</td>\n",
       "      <td>3.000000</td>\n",
       "      <td>9.000000</td>\n",
       "      <td>6.000000</td>\n",
       "      <td>23.000000</td>\n",
       "      <td>40.000000</td>\n",
       "      <td>3.000000</td>\n",
       "      <td>25.000000</td>\n",
       "      <td>500.000000</td>\n",
       "      <td>6.000000</td>\n",
       "      <td>4.000000</td>\n",
       "      <td>1000.000000</td>\n",
       "      <td>-7.900000</td>\n",
       "      <td>0.000000</td>\n",
       "      <td>0.800000</td>\n",
       "    </tr>\n",
       "    <tr>\n",
       "      <th>50%</th>\n",
       "      <td>210384.50000</td>\n",
       "      <td>2014.000000</td>\n",
       "      <td>6.000000</td>\n",
       "      <td>17.000000</td>\n",
       "      <td>13.000000</td>\n",
       "      <td>65.000000</td>\n",
       "      <td>92.000000</td>\n",
       "      <td>9.000000</td>\n",
       "      <td>47.000000</td>\n",
       "      <td>1000.000000</td>\n",
       "      <td>41.000000</td>\n",
       "      <td>16.500000</td>\n",
       "      <td>1008.700000</td>\n",
       "      <td>5.500000</td>\n",
       "      <td>0.000000</td>\n",
       "      <td>1.300000</td>\n",
       "    </tr>\n",
       "    <tr>\n",
       "      <th>75%</th>\n",
       "      <td>315576.25000</td>\n",
       "      <td>2016.000000</td>\n",
       "      <td>9.000000</td>\n",
       "      <td>25.000000</td>\n",
       "      <td>19.000000</td>\n",
       "      <td>133.000000</td>\n",
       "      <td>170.000000</td>\n",
       "      <td>25.000000</td>\n",
       "      <td>81.000000</td>\n",
       "      <td>1800.000000</td>\n",
       "      <td>76.000000</td>\n",
       "      <td>25.200000</td>\n",
       "      <td>1018.000000</td>\n",
       "      <td>17.200000</td>\n",
       "      <td>0.000000</td>\n",
       "      <td>2.100000</td>\n",
       "    </tr>\n",
       "    <tr>\n",
       "      <th>max</th>\n",
       "      <td>420768.00000</td>\n",
       "      <td>2017.000000</td>\n",
       "      <td>12.000000</td>\n",
       "      <td>1452.932329</td>\n",
       "      <td>216.624099</td>\n",
       "      <td>59955.089040</td>\n",
       "      <td>65788.708090</td>\n",
       "      <td>8079.721805</td>\n",
       "      <td>7528.392953</td>\n",
       "      <td>648993.391500</td>\n",
       "      <td>674.000000</td>\n",
       "      <td>2042.575594</td>\n",
       "      <td>1042.800000</td>\n",
       "      <td>4455.516930</td>\n",
       "      <td>72.500000</td>\n",
       "      <td>13.200000</td>\n",
       "    </tr>\n",
       "  </tbody>\n",
       "</table>\n",
       "</div>"
      ],
      "text/plain": [
       "                 No           year          month            day  \\\n",
       "count  420768.00000  420768.000000  420768.000000  420768.000000   \n",
       "mean   210384.50000    2014.524013       6.229352      74.980975   \n",
       "std    121465.40337       1.217152       3.442458     230.951099   \n",
       "min         1.00000    2013.000000       1.000000       1.000000   \n",
       "25%    105192.75000    2013.000000       3.000000       9.000000   \n",
       "50%    210384.50000    2014.000000       6.000000      17.000000   \n",
       "75%    315576.25000    2016.000000       9.000000      25.000000   \n",
       "max    420768.00000    2017.000000      12.000000    1452.932329   \n",
       "\n",
       "                hour          PM2.5           PM10            SO2  \\\n",
       "count  420768.000000  420768.000000  420768.000000  420768.000000   \n",
       "mean       20.008631    2569.374010    2835.521970     262.090135   \n",
       "std        33.691802    9654.420566   10590.530737     994.920301   \n",
       "min         0.000000       2.000000       2.000000       0.285600   \n",
       "25%         6.000000      23.000000      40.000000       3.000000   \n",
       "50%        13.000000      65.000000      92.000000       9.000000   \n",
       "75%        19.000000     133.000000     170.000000      25.000000   \n",
       "max       216.624099   59955.089040   65788.708090    8079.721805   \n",
       "\n",
       "                 NO2             CO             O3           TEMP  \\\n",
       "count  420768.000000  420768.000000  420768.000000  420390.000000   \n",
       "mean      349.207928   22914.624732    -105.628525      97.618492   \n",
       "std      1168.953512   88825.232316     647.318085     326.810962   \n",
       "min         1.026500     100.000000   -9679.500000     -19.900000   \n",
       "25%        25.000000     500.000000       6.000000       4.000000   \n",
       "50%        47.000000    1000.000000      41.000000      16.500000   \n",
       "75%        81.000000    1800.000000      76.000000      25.200000   \n",
       "max      7528.392953  648993.391500     674.000000    2042.575594   \n",
       "\n",
       "                PRES           DEWP           RAIN           WSPM  \n",
       "count  420395.000000  420385.000000  420398.000000  420464.000000  \n",
       "mean      772.400925     187.180591       0.059136     -15.922061  \n",
       "std       923.875995     717.192375       0.789176      68.369591  \n",
       "min     -4721.266494     -43.400000       0.000000    -422.099603  \n",
       "25%      1000.000000      -7.900000       0.000000       0.800000  \n",
       "50%      1008.700000       5.500000       0.000000       1.300000  \n",
       "75%      1018.000000      17.200000       0.000000       2.100000  \n",
       "max      1042.800000    4455.516930      72.500000      13.200000  "
      ]
     },
     "execution_count": 49,
     "metadata": {},
     "output_type": "execute_result"
    }
   ],
   "source": [
    "data.describe()"
   ]
  },
  {
   "cell_type": "code",
   "execution_count": 51,
   "metadata": {},
   "outputs": [
    {
     "data": {
      "text/plain": [
       "No            0\n",
       "year          0\n",
       "month         0\n",
       "day           0\n",
       "hour          0\n",
       "PM2.5         0\n",
       "PM10          0\n",
       "SO2           0\n",
       "NO2           0\n",
       "CO            0\n",
       "O3            0\n",
       "TEMP        378\n",
       "PRES        373\n",
       "DEWP        383\n",
       "RAIN        370\n",
       "wd         1744\n",
       "WSPM        304\n",
       "station       0\n",
       "dtype: int64"
      ]
     },
     "execution_count": 51,
     "metadata": {},
     "output_type": "execute_result"
    }
   ],
   "source": [
    "data.isna().sum() #some null value remain since some state have one value(i.e NaN only) and no mean to replace them"
   ]
  },
  {
   "cell_type": "markdown",
   "metadata": {},
   "source": [
    "### Data Distribution after Replacing Null value with mean"
   ]
  },
  {
   "cell_type": "code",
   "execution_count": 53,
   "metadata": {},
   "outputs": [
    {
     "data": {
      "text/plain": [
       "(array([3.58718e+05, 2.35160e+04, 3.85700e+03, 9.96000e+02, 3.68000e+02,\n",
       "        3.22000e+02, 3.11000e+02, 3.07000e+02, 3.06000e+02, 3.10000e+02]),\n",
       " array([  0.,  50., 100., 150., 200., 250., 300., 350., 400., 450., 500.]),\n",
       " <a list of 10 Patch objects>)"
      ]
     },
     "execution_count": 53,
     "metadata": {},
     "output_type": "execute_result"
    },
    {
     "data": {
      "image/png": "[encoded data removed]",
      "text/plain": [
       "<Figure size 432x288 with 1 Axes>"
      ]
     },
     "metadata": {
      "needs_background": "light"
     },
     "output_type": "display_data"
    }
   ],
   "source": [
    "plt.hist(data.SO2,range=(0,500))"
   ]
  },
  {
   "cell_type": "markdown",
   "metadata": {},
   "source": [
    "### Linear Regression Prediction"
   ]
  },
  {
   "cell_type": "markdown",
   "metadata": {},
   "source": [
    "Using SO2, NO2, O3, PM10 TO PREDICT PM2.5 CONCENTRATION"
   ]
  },
  {
   "cell_type": "code",
   "execution_count": 14,
   "metadata": {},
   "outputs": [],
   "source": [
    "from sklearn.model_selection import train_test_split\n",
    "from sklearn.linear_model import LinearRegression\n",
    "from sklearn.metrics import mean_squared_log_error\n",
    "from sklearn.metrics import mean_squared_error\n",
    "from sklearn.metrics import r2_score, mean_squared_error\n",
    "from sklearn.model_selection import KFold\n",
    "from sklearn.model_selection import cross_val_score"
   ]
  },
  {
   "cell_type": "code",
   "execution_count": 15,
   "metadata": {},
   "outputs": [
    {
     "data": {
      "text/plain": [
       "0     9.0\n",
       "1    11.0\n",
       "2     8.0\n",
       "3     8.0\n",
       "4     8.0\n",
       "Name: PM2.5, dtype: float64"
      ]
     },
     "execution_count": 15,
     "metadata": {},
     "output_type": "execute_result"
    }
   ],
   "source": [
    "X = data[['SO2','NO2','O3','PM10']]\n",
    "y = data['PM2.5']\n",
    "y.head()"
   ]
  },
  {
   "cell_type": "code",
   "execution_count": 16,
   "metadata": {},
   "outputs": [],
   "source": [
    "X_train, X_test, y_train, y_test = train_test_split(X,y, test_size=0.2,random_state=101)"
   ]
  },
  {
   "cell_type": "code",
   "execution_count": 17,
   "metadata": {},
   "outputs": [
    {
     "data": {
      "text/html": [
       "<div>\n",
       "<style scoped>\n",
       "    .dataframe tbody tr th:only-of-type {\n",
       "        vertical-align: middle;\n",
       "    }\n",
       "\n",
       "    .dataframe tbody tr th {\n",
       "        vertical-align: top;\n",
       "    }\n",
       "\n",
       "    .dataframe thead th {\n",
       "        text-align: right;\n",
       "    }\n",
       "</style>\n",
       "<table border=\"1\" class=\"dataframe\">\n",
       "  <thead>\n",
       "    <tr style=\"text-align: right;\">\n",
       "      <th></th>\n",
       "      <th>SO2</th>\n",
       "      <th>NO2</th>\n",
       "      <th>O3</th>\n",
       "      <th>PM10</th>\n",
       "    </tr>\n",
       "  </thead>\n",
       "  <tbody>\n",
       "    <tr>\n",
       "      <th>368803</th>\n",
       "      <td>50.0</td>\n",
       "      <td>44.0</td>\n",
       "      <td>154.0</td>\n",
       "      <td>186.0</td>\n",
       "    </tr>\n",
       "    <tr>\n",
       "      <th>218649</th>\n",
       "      <td>49.0</td>\n",
       "      <td>82.0</td>\n",
       "      <td>4.0</td>\n",
       "      <td>112.0</td>\n",
       "    </tr>\n",
       "    <tr>\n",
       "      <th>149333</th>\n",
       "      <td>24.0</td>\n",
       "      <td>2.0</td>\n",
       "      <td>89.0</td>\n",
       "      <td>21.0</td>\n",
       "    </tr>\n",
       "    <tr>\n",
       "      <th>377003</th>\n",
       "      <td>58.0</td>\n",
       "      <td>117.0</td>\n",
       "      <td>15.0</td>\n",
       "      <td>289.0</td>\n",
       "    </tr>\n",
       "    <tr>\n",
       "      <th>336789</th>\n",
       "      <td>2.0</td>\n",
       "      <td>67.0</td>\n",
       "      <td>33.0</td>\n",
       "      <td>95.0</td>\n",
       "    </tr>\n",
       "  </tbody>\n",
       "</table>\n",
       "</div>"
      ],
      "text/plain": [
       "         SO2    NO2     O3   PM10\n",
       "368803  50.0   44.0  154.0  186.0\n",
       "218649  49.0   82.0    4.0  112.0\n",
       "149333  24.0    2.0   89.0   21.0\n",
       "377003  58.0  117.0   15.0  289.0\n",
       "336789   2.0   67.0   33.0   95.0"
      ]
     },
     "execution_count": 17,
     "metadata": {},
     "output_type": "execute_result"
    }
   ],
   "source": [
    "X_train.head()"
   ]
  },
  {
   "cell_type": "code",
   "execution_count": 18,
   "metadata": {},
   "outputs": [
    {
     "data": {
      "text/plain": [
       "LinearRegression(copy_X=True, fit_intercept=True, n_jobs=None, normalize=False)"
      ]
     },
     "execution_count": 18,
     "metadata": {},
     "output_type": "execute_result"
    }
   ],
   "source": [
    "LR = LinearRegression() \n",
    "LR.fit(X_train, y_train)"
   ]
  },
  {
   "cell_type": "code",
   "execution_count": 19,
   "metadata": {},
   "outputs": [
    {
     "name": "stdout",
     "output_type": "stream",
     "text": [
      "Intercept -14.995433450934797\n"
     ]
    }
   ],
   "source": [
    "print('Intercept',LR.intercept_)"
   ]
  },
  {
   "cell_type": "code",
   "execution_count": 20,
   "metadata": {},
   "outputs": [
    {
     "name": "stdout",
     "output_type": "stream",
     "text": [
      "Coefficients [ 0.00296904  0.00505548 -0.01526072  0.90989628]\n"
     ]
    }
   ],
   "source": [
    "print('Coefficients',LR.coef_)"
   ]
  },
  {
   "cell_type": "code",
   "execution_count": 21,
   "metadata": {},
   "outputs": [],
   "source": [
    "predictions = LR.predict(X_test)"
   ]
  },
  {
   "cell_type": "code",
   "execution_count": 22,
   "metadata": {},
   "outputs": [
    {
     "data": {
      "text/plain": [
       "Text(0, 0.5, 'Predicted Y')"
      ]
     },
     "execution_count": 22,
     "metadata": {},
     "output_type": "execute_result"
    },
    {
     "data": {
      "image/png": "[encoded data removed]",
      "text/plain": [
       "<Figure size 432x288 with 1 Axes>"
      ]
     },
     "metadata": {
      "needs_background": "light"
     },
     "output_type": "display_data"
    }
   ],
   "source": [
    "plt.scatter(y_test,predictions)\n",
    "plt.xlabel('Y Test')\n",
    "plt.ylabel('Predicted Y')"
   ]
  },
  {
   "cell_type": "code",
   "execution_count": 23,
   "metadata": {},
   "outputs": [
    {
     "data": {
      "text/plain": [
       "0.9999845247294245"
      ]
     },
     "execution_count": 23,
     "metadata": {},
     "output_type": "execute_result"
    }
   ],
   "source": [
    "LR.score(X_test,y_test)"
   ]
  },
  {
   "cell_type": "code",
   "execution_count": 25,
   "metadata": {},
   "outputs": [
    {
     "name": "stdout",
     "output_type": "stream",
     "text": [
      "R^2_Square:1.00 \n",
      "MSE:38.02 \n"
     ]
    }
   ],
   "source": [
    "print('R^2_Square:%.2f '% r2_score(y_test, predictions))\n",
    "print('MSE:%.2f '% np.sqrt(mean_squared_error(y_test, predictions)))"
   ]
  },
  {
   "cell_type": "markdown",
   "metadata": {},
   "source": [
    "## Classification ot PM2.5 concentration"
   ]
  },
  {
   "cell_type": "code",
   "execution_count": 26,
   "metadata": {},
   "outputs": [
    {
     "data": {
      "text/html": [
       "<div>\n",
       "<style scoped>\n",
       "    .dataframe tbody tr th:only-of-type {\n",
       "        vertical-align: middle;\n",
       "    }\n",
       "\n",
       "    .dataframe tbody tr th {\n",
       "        vertical-align: top;\n",
       "    }\n",
       "\n",
       "    .dataframe thead th {\n",
       "        text-align: right;\n",
       "    }\n",
       "</style>\n",
       "<table border=\"1\" class=\"dataframe\">\n",
       "  <thead>\n",
       "    <tr style=\"text-align: right;\">\n",
       "      <th></th>\n",
       "      <th>No</th>\n",
       "      <th>year</th>\n",
       "      <th>month</th>\n",
       "      <th>day</th>\n",
       "      <th>hour</th>\n",
       "      <th>PM2.5</th>\n",
       "      <th>PM10</th>\n",
       "      <th>SO2</th>\n",
       "      <th>NO2</th>\n",
       "      <th>CO</th>\n",
       "      <th>O3</th>\n",
       "      <th>TEMP</th>\n",
       "      <th>PRES</th>\n",
       "      <th>DEWP</th>\n",
       "      <th>RAIN</th>\n",
       "      <th>wd</th>\n",
       "      <th>WSPM</th>\n",
       "      <th>station</th>\n",
       "      <th>PM2.5_RANGE</th>\n",
       "    </tr>\n",
       "  </thead>\n",
       "  <tbody>\n",
       "    <tr>\n",
       "      <th>0</th>\n",
       "      <td>1</td>\n",
       "      <td>2013</td>\n",
       "      <td>3</td>\n",
       "      <td>1.0</td>\n",
       "      <td>0.0</td>\n",
       "      <td>9.0</td>\n",
       "      <td>9.0</td>\n",
       "      <td>6.0</td>\n",
       "      <td>17.0</td>\n",
       "      <td>200.0</td>\n",
       "      <td>62.0</td>\n",
       "      <td>0.3</td>\n",
       "      <td>1021.9</td>\n",
       "      <td>-19.0</td>\n",
       "      <td>0.0</td>\n",
       "      <td>WNW</td>\n",
       "      <td>2.0</td>\n",
       "      <td>Wanshouxigong</td>\n",
       "      <td>Good</td>\n",
       "    </tr>\n",
       "    <tr>\n",
       "      <th>1</th>\n",
       "      <td>2</td>\n",
       "      <td>2013</td>\n",
       "      <td>3</td>\n",
       "      <td>1.0</td>\n",
       "      <td>1.0</td>\n",
       "      <td>11.0</td>\n",
       "      <td>11.0</td>\n",
       "      <td>7.0</td>\n",
       "      <td>14.0</td>\n",
       "      <td>200.0</td>\n",
       "      <td>66.0</td>\n",
       "      <td>-0.1</td>\n",
       "      <td>1022.4</td>\n",
       "      <td>-19.3</td>\n",
       "      <td>0.0</td>\n",
       "      <td>WNW</td>\n",
       "      <td>4.4</td>\n",
       "      <td>Wanshouxigong</td>\n",
       "      <td>Good</td>\n",
       "    </tr>\n",
       "    <tr>\n",
       "      <th>2</th>\n",
       "      <td>3</td>\n",
       "      <td>2013</td>\n",
       "      <td>3</td>\n",
       "      <td>1.0</td>\n",
       "      <td>2.0</td>\n",
       "      <td>8.0</td>\n",
       "      <td>8.0</td>\n",
       "      <td>0.0</td>\n",
       "      <td>16.0</td>\n",
       "      <td>200.0</td>\n",
       "      <td>59.0</td>\n",
       "      <td>-0.6</td>\n",
       "      <td>1022.6</td>\n",
       "      <td>-19.7</td>\n",
       "      <td>0.0</td>\n",
       "      <td>WNW</td>\n",
       "      <td>4.7</td>\n",
       "      <td>Wanshouxigong</td>\n",
       "      <td>Good</td>\n",
       "    </tr>\n",
       "    <tr>\n",
       "      <th>3</th>\n",
       "      <td>4</td>\n",
       "      <td>2013</td>\n",
       "      <td>3</td>\n",
       "      <td>1.0</td>\n",
       "      <td>3.0</td>\n",
       "      <td>8.0</td>\n",
       "      <td>8.0</td>\n",
       "      <td>3.0</td>\n",
       "      <td>16.0</td>\n",
       "      <td>0.0</td>\n",
       "      <td>0.0</td>\n",
       "      <td>-0.7</td>\n",
       "      <td>1023.5</td>\n",
       "      <td>-20.9</td>\n",
       "      <td>0.0</td>\n",
       "      <td>NW</td>\n",
       "      <td>2.6</td>\n",
       "      <td>Wanshouxigong</td>\n",
       "      <td>Good</td>\n",
       "    </tr>\n",
       "    <tr>\n",
       "      <th>4</th>\n",
       "      <td>5</td>\n",
       "      <td>2013</td>\n",
       "      <td>3</td>\n",
       "      <td>1.0</td>\n",
       "      <td>4.0</td>\n",
       "      <td>8.0</td>\n",
       "      <td>8.0</td>\n",
       "      <td>3.0</td>\n",
       "      <td>0.0</td>\n",
       "      <td>300.0</td>\n",
       "      <td>36.0</td>\n",
       "      <td>-0.9</td>\n",
       "      <td>1024.1</td>\n",
       "      <td>-21.7</td>\n",
       "      <td>0.0</td>\n",
       "      <td>WNW</td>\n",
       "      <td>2.5</td>\n",
       "      <td>Wanshouxigong</td>\n",
       "      <td>Good</td>\n",
       "    </tr>\n",
       "  </tbody>\n",
       "</table>\n",
       "</div>"
      ],
      "text/plain": [
       "   No  year  month  day  hour  PM2.5  PM10  SO2   NO2     CO    O3  TEMP  \\\n",
       "0   1  2013      3  1.0   0.0    9.0   9.0  6.0  17.0  200.0  62.0   0.3   \n",
       "1   2  2013      3  1.0   1.0   11.0  11.0  7.0  14.0  200.0  66.0  -0.1   \n",
       "2   3  2013      3  1.0   2.0    8.0   8.0  0.0  16.0  200.0  59.0  -0.6   \n",
       "3   4  2013      3  1.0   3.0    8.0   8.0  3.0  16.0    0.0   0.0  -0.7   \n",
       "4   5  2013      3  1.0   4.0    8.0   8.0  3.0   0.0  300.0  36.0  -0.9   \n",
       "\n",
       "     PRES  DEWP  RAIN   wd  WSPM        station PM2.5_RANGE  \n",
       "0  1021.9 -19.0   0.0  WNW   2.0  Wanshouxigong        Good  \n",
       "1  1022.4 -19.3   0.0  WNW   4.4  Wanshouxigong        Good  \n",
       "2  1022.6 -19.7   0.0  WNW   4.7  Wanshouxigong        Good  \n",
       "3  1023.5 -20.9   0.0   NW   2.6  Wanshouxigong        Good  \n",
       "4  1024.1 -21.7   0.0  WNW   2.5  Wanshouxigong        Good  "
      ]
     },
     "execution_count": 26,
     "metadata": {},
     "output_type": "execute_result"
    }
   ],
   "source": [
    "def PM25_range(x):\n",
    "    if x<=50:\n",
    "        return \"Good\"\n",
    "    elif x>50 and x<=100:\n",
    "        return \"Moderate\"\n",
    "    elif x>100 and x<=200:\n",
    "        return \"Poor\"\n",
    "    elif x>200 and x<=300:\n",
    "        return \"Unhealthy\"\n",
    "    elif x>300 and x<=400:\n",
    "        return \"Very unhealthy\"\n",
    "    elif x>400:\n",
    "        return \"Hazardous\"\n",
    "\n",
    "data['PM2.5_RANGE'] = data['PM2.5'] .apply(PM25_range)\n",
    "data.head()"
   ]
  },
  {
   "cell_type": "markdown",
   "metadata": {},
   "source": [
    "### 1. Logistic Regression"
   ]
  },
  {
   "cell_type": "markdown",
   "metadata": {},
   "source": [
    "Using SO2, NO2, O3 and PM10 to estimate PM2.5"
   ]
  },
  {
   "cell_type": "code",
   "execution_count": 27,
   "metadata": {},
   "outputs": [],
   "source": [
    "from sklearn.linear_model import LogisticRegression"
   ]
  },
  {
   "cell_type": "code",
   "execution_count": 28,
   "metadata": {},
   "outputs": [],
   "source": [
    "X2 = data[['SO2','NO2','O3','PM10']]\n",
    "y2 = data['PM2.5_RANGE']"
   ]
  },
  {
   "cell_type": "code",
   "execution_count": 29,
   "metadata": {},
   "outputs": [],
   "source": [
    "X_train2, X_test2, y_train2, y_test2 = train_test_split(X2, y2, test_size=0.33, random_state=42)"
   ]
  },
  {
   "cell_type": "code",
   "execution_count": 30,
   "metadata": {},
   "outputs": [
    {
     "name": "stderr",
     "output_type": "stream",
     "text": [
      "C:\\Users\\Anshuman-Pati\\Anaconda3\\lib\\site-packages\\sklearn\\linear_model\\logistic.py:432: FutureWarning: Default solver will be changed to 'lbfgs' in 0.22. Specify a solver to silence this warning.\n",
      "  FutureWarning)\n",
      "C:\\Users\\Anshuman-Pati\\Anaconda3\\lib\\site-packages\\sklearn\\linear_model\\logistic.py:469: FutureWarning: Default multi_class will be changed to 'auto' in 0.22. Specify the multi_class option to silence this warning.\n",
      "  \"this warning.\", FutureWarning)\n",
      "C:\\Users\\Anshuman-Pati\\Anaconda3\\lib\\site-packages\\sklearn\\svm\\base.py:929: ConvergenceWarning: Liblinear failed to converge, increase the number of iterations.\n",
      "  \"the number of iterations.\", ConvergenceWarning)\n"
     ]
    },
    {
     "data": {
      "text/plain": [
       "LogisticRegression(C=1.0, class_weight=None, dual=False, fit_intercept=True,\n",
       "                   intercept_scaling=1, l1_ratio=None, max_iter=100,\n",
       "                   multi_class='warn', n_jobs=None, penalty='l2',\n",
       "                   random_state=None, solver='warn', tol=0.0001, verbose=0,\n",
       "                   warm_start=False)"
      ]
     },
     "execution_count": 30,
     "metadata": {},
     "output_type": "execute_result"
    }
   ],
   "source": [
    "logmodel = LogisticRegression()\n",
    "logmodel.fit(X_train2,y_train2)"
   ]
  },
  {
   "cell_type": "code",
   "execution_count": 31,
   "metadata": {},
   "outputs": [],
   "source": [
    "predictions = logmodel.predict(X_test)"
   ]
  },
  {
   "cell_type": "code",
   "execution_count": 33,
   "metadata": {},
   "outputs": [
    {
     "data": {
      "text/plain": [
       "0.6330174139743904"
      ]
     },
     "execution_count": 33,
     "metadata": {},
     "output_type": "execute_result"
    }
   ],
   "source": [
    "logmodel.score(X_test2,y_test2) #accuracy score 63.30%"
   ]
  },
  {
   "cell_type": "markdown",
   "metadata": {},
   "source": [
    "Creating new csv file to store PM2.5 range values inorder to cross verify predicted value"
   ]
  },
  {
   "cell_type": "code",
   "execution_count": 35,
   "metadata": {},
   "outputs": [],
   "source": [
    "new = pd.DataFrame(data)\n",
    "file1 = 'new1.csv'\n",
    "new.to_csv(file1,index=True)"
   ]
  },
  {
   "cell_type": "code",
   "execution_count": 36,
   "metadata": {},
   "outputs": [
    {
     "data": {
      "text/html": [
       "<div>\n",
       "<style scoped>\n",
       "    .dataframe tbody tr th:only-of-type {\n",
       "        vertical-align: middle;\n",
       "    }\n",
       "\n",
       "    .dataframe tbody tr th {\n",
       "        vertical-align: top;\n",
       "    }\n",
       "\n",
       "    .dataframe thead th {\n",
       "        text-align: right;\n",
       "    }\n",
       "</style>\n",
       "<table border=\"1\" class=\"dataframe\">\n",
       "  <thead>\n",
       "    <tr style=\"text-align: right;\">\n",
       "      <th></th>\n",
       "      <th>No</th>\n",
       "      <th>year</th>\n",
       "      <th>month</th>\n",
       "      <th>day</th>\n",
       "      <th>hour</th>\n",
       "      <th>PM2.5</th>\n",
       "      <th>PM10</th>\n",
       "      <th>SO2</th>\n",
       "      <th>NO2</th>\n",
       "      <th>CO</th>\n",
       "      <th>O3</th>\n",
       "      <th>TEMP</th>\n",
       "      <th>PRES</th>\n",
       "      <th>DEWP</th>\n",
       "      <th>RAIN</th>\n",
       "      <th>wd</th>\n",
       "      <th>WSPM</th>\n",
       "      <th>station</th>\n",
       "      <th>PM2.5_RANGE</th>\n",
       "    </tr>\n",
       "  </thead>\n",
       "  <tbody>\n",
       "    <tr>\n",
       "      <th>420763</th>\n",
       "      <td>420764</td>\n",
       "      <td>2017</td>\n",
       "      <td>2</td>\n",
       "      <td>28.0</td>\n",
       "      <td>19.0</td>\n",
       "      <td>27.0</td>\n",
       "      <td>72.0</td>\n",
       "      <td>8.0</td>\n",
       "      <td>92.0</td>\n",
       "      <td>800.0</td>\n",
       "      <td>16.0</td>\n",
       "      <td>10.3</td>\n",
       "      <td>1014.2</td>\n",
       "      <td>-12.4</td>\n",
       "      <td>0.0</td>\n",
       "      <td>W</td>\n",
       "      <td>1.8</td>\n",
       "      <td>Shunyi</td>\n",
       "      <td>Good</td>\n",
       "    </tr>\n",
       "    <tr>\n",
       "      <th>420764</th>\n",
       "      <td>420765</td>\n",
       "      <td>2017</td>\n",
       "      <td>2</td>\n",
       "      <td>28.0</td>\n",
       "      <td>20.0</td>\n",
       "      <td>47.0</td>\n",
       "      <td>55.0</td>\n",
       "      <td>17.0</td>\n",
       "      <td>86.0</td>\n",
       "      <td>1100.0</td>\n",
       "      <td>19.0</td>\n",
       "      <td>9.8</td>\n",
       "      <td>1014.5</td>\n",
       "      <td>-9.9</td>\n",
       "      <td>0.0</td>\n",
       "      <td>NW</td>\n",
       "      <td>1.5</td>\n",
       "      <td>Shunyi</td>\n",
       "      <td>Good</td>\n",
       "    </tr>\n",
       "    <tr>\n",
       "      <th>420765</th>\n",
       "      <td>420766</td>\n",
       "      <td>2017</td>\n",
       "      <td>2</td>\n",
       "      <td>28.0</td>\n",
       "      <td>21.0</td>\n",
       "      <td>18.0</td>\n",
       "      <td>28.0</td>\n",
       "      <td>4.0</td>\n",
       "      <td>30.0</td>\n",
       "      <td>500.0</td>\n",
       "      <td>64.0</td>\n",
       "      <td>9.1</td>\n",
       "      <td>1014.6</td>\n",
       "      <td>-12.7</td>\n",
       "      <td>0.0</td>\n",
       "      <td>NE</td>\n",
       "      <td>1.7</td>\n",
       "      <td>Shunyi</td>\n",
       "      <td>Good</td>\n",
       "    </tr>\n",
       "    <tr>\n",
       "      <th>420766</th>\n",
       "      <td>420767</td>\n",
       "      <td>2017</td>\n",
       "      <td>2</td>\n",
       "      <td>28.0</td>\n",
       "      <td>22.0</td>\n",
       "      <td>18.0</td>\n",
       "      <td>20.0</td>\n",
       "      <td>9.0</td>\n",
       "      <td>33.0</td>\n",
       "      <td>500.0</td>\n",
       "      <td>59.0</td>\n",
       "      <td>7.1</td>\n",
       "      <td>1015.2</td>\n",
       "      <td>-13.2</td>\n",
       "      <td>0.0</td>\n",
       "      <td>WNW</td>\n",
       "      <td>1.8</td>\n",
       "      <td>Shunyi</td>\n",
       "      <td>Good</td>\n",
       "    </tr>\n",
       "    <tr>\n",
       "      <th>420767</th>\n",
       "      <td>420768</td>\n",
       "      <td>2017</td>\n",
       "      <td>2</td>\n",
       "      <td>28.0</td>\n",
       "      <td>23.0</td>\n",
       "      <td>15.0</td>\n",
       "      <td>22.0</td>\n",
       "      <td>13.0</td>\n",
       "      <td>34.0</td>\n",
       "      <td>500.0</td>\n",
       "      <td>60.0</td>\n",
       "      <td>7.4</td>\n",
       "      <td>1014.9</td>\n",
       "      <td>-11.9</td>\n",
       "      <td>0.0</td>\n",
       "      <td>N</td>\n",
       "      <td>1.4</td>\n",
       "      <td>Shunyi</td>\n",
       "      <td>Good</td>\n",
       "    </tr>\n",
       "  </tbody>\n",
       "</table>\n",
       "</div>"
      ],
      "text/plain": [
       "            No  year  month   day  hour  PM2.5  PM10   SO2   NO2      CO  \\\n",
       "420763  420764  2017      2  28.0  19.0   27.0  72.0   8.0  92.0   800.0   \n",
       "420764  420765  2017      2  28.0  20.0   47.0  55.0  17.0  86.0  1100.0   \n",
       "420765  420766  2017      2  28.0  21.0   18.0  28.0   4.0  30.0   500.0   \n",
       "420766  420767  2017      2  28.0  22.0   18.0  20.0   9.0  33.0   500.0   \n",
       "420767  420768  2017      2  28.0  23.0   15.0  22.0  13.0  34.0   500.0   \n",
       "\n",
       "          O3  TEMP    PRES  DEWP  RAIN   wd  WSPM station PM2.5_RANGE  \n",
       "420763  16.0  10.3  1014.2 -12.4   0.0    W   1.8  Shunyi        Good  \n",
       "420764  19.0   9.8  1014.5  -9.9   0.0   NW   1.5  Shunyi        Good  \n",
       "420765  64.0   9.1  1014.6 -12.7   0.0   NE   1.7  Shunyi        Good  \n",
       "420766  59.0   7.1  1015.2 -13.2   0.0  WNW   1.8  Shunyi        Good  \n",
       "420767  60.0   7.4  1014.9 -11.9   0.0    N   1.4  Shunyi        Good  "
      ]
     },
     "execution_count": 36,
     "metadata": {},
     "output_type": "execute_result"
    }
   ],
   "source": [
    "data.tail()"
   ]
  },
  {
   "cell_type": "code",
   "execution_count": 38,
   "metadata": {},
   "outputs": [
    {
     "data": {
      "text/plain": [
       "array(['Poor'], dtype=object)"
      ]
     },
     "execution_count": 38,
     "metadata": {},
     "output_type": "execute_result"
    }
   ],
   "source": [
    "logmodel.predict([[77.4,147.7,78.182,100]]) #correct_prediction"
   ]
  },
  {
   "cell_type": "code",
   "execution_count": 39,
   "metadata": {},
   "outputs": [
    {
     "data": {
      "text/plain": [
       "array(['Moderate'], dtype=object)"
      ]
     },
     "execution_count": 39,
     "metadata": {},
     "output_type": "execute_result"
    }
   ],
   "source": [
    "logmodel.predict([[32.7,35,78.182,203]]) #correct"
   ]
  },
  {
   "cell_type": "code",
   "execution_count": 40,
   "metadata": {},
   "outputs": [
    {
     "data": {
      "text/plain": [
       "array(['Poor'], dtype=object)"
      ]
     },
     "execution_count": 40,
     "metadata": {},
     "output_type": "execute_result"
    }
   ],
   "source": [
    "logmodel.predict([[100,182.2,78.182,400]]) #correct"
   ]
  },
  {
   "cell_type": "markdown",
   "metadata": {},
   "source": [
    "## Using Random Forest Classifier"
   ]
  },
  {
   "cell_type": "code",
   "execution_count": 41,
   "metadata": {},
   "outputs": [],
   "source": [
    "from sklearn.ensemble import RandomForestClassifier"
   ]
  },
  {
   "cell_type": "code",
   "execution_count": 43,
   "metadata": {},
   "outputs": [
    {
     "data": {
      "text/plain": [
       "RandomForestClassifier(bootstrap=True, class_weight=None, criterion='gini',\n",
       "                       max_depth=None, max_features='auto', max_leaf_nodes=None,\n",
       "                       min_impurity_decrease=0.0, min_impurity_split=None,\n",
       "                       min_samples_leaf=1, min_samples_split=2,\n",
       "                       min_weight_fraction_leaf=0.0, n_estimators=10,\n",
       "                       n_jobs=None, oob_score=False, random_state=None,\n",
       "                       verbose=0, warm_start=False)"
      ]
     },
     "execution_count": 43,
     "metadata": {},
     "output_type": "execute_result"
    }
   ],
   "source": [
    "model = RandomForestClassifier(n_estimators=10)\n",
    "model.fit(X_train2,y_train2)"
   ]
  },
  {
   "cell_type": "code",
   "execution_count": 45,
   "metadata": {},
   "outputs": [
    {
     "data": {
      "text/plain": [
       "0.760352600573264"
      ]
     },
     "execution_count": 45,
     "metadata": {},
     "output_type": "execute_result"
    }
   ],
   "source": [
    "model.score(X_test2,y_test2) #higher accuracy score of 76.03%"
   ]
  },
  {
   "cell_type": "code",
   "execution_count": 46,
   "metadata": {},
   "outputs": [
    {
     "data": {
      "text/html": [
       "<div>\n",
       "<style scoped>\n",
       "    .dataframe tbody tr th:only-of-type {\n",
       "        vertical-align: middle;\n",
       "    }\n",
       "\n",
       "    .dataframe tbody tr th {\n",
       "        vertical-align: top;\n",
       "    }\n",
       "\n",
       "    .dataframe thead th {\n",
       "        text-align: right;\n",
       "    }\n",
       "</style>\n",
       "<table border=\"1\" class=\"dataframe\">\n",
       "  <thead>\n",
       "    <tr style=\"text-align: right;\">\n",
       "      <th></th>\n",
       "      <th>SO2</th>\n",
       "      <th>NO2</th>\n",
       "      <th>O3</th>\n",
       "      <th>PM10</th>\n",
       "    </tr>\n",
       "  </thead>\n",
       "  <tbody>\n",
       "    <tr>\n",
       "      <th>359017</th>\n",
       "      <td>0.0</td>\n",
       "      <td>0.0</td>\n",
       "      <td>0.0000</td>\n",
       "      <td>256.0</td>\n",
       "    </tr>\n",
       "    <tr>\n",
       "      <th>392031</th>\n",
       "      <td>7.0</td>\n",
       "      <td>13.0</td>\n",
       "      <td>54.1926</td>\n",
       "      <td>18.0</td>\n",
       "    </tr>\n",
       "    <tr>\n",
       "      <th>282619</th>\n",
       "      <td>6.0</td>\n",
       "      <td>71.0</td>\n",
       "      <td>48.0000</td>\n",
       "      <td>112.0</td>\n",
       "    </tr>\n",
       "    <tr>\n",
       "      <th>365502</th>\n",
       "      <td>2.0</td>\n",
       "      <td>40.0</td>\n",
       "      <td>2.0000</td>\n",
       "      <td>46.0</td>\n",
       "    </tr>\n",
       "    <tr>\n",
       "      <th>241194</th>\n",
       "      <td>4.0</td>\n",
       "      <td>28.0</td>\n",
       "      <td>143.0000</td>\n",
       "      <td>49.0</td>\n",
       "    </tr>\n",
       "  </tbody>\n",
       "</table>\n",
       "</div>"
      ],
      "text/plain": [
       "        SO2   NO2        O3   PM10\n",
       "359017  0.0   0.0    0.0000  256.0\n",
       "392031  7.0  13.0   54.1926   18.0\n",
       "282619  6.0  71.0   48.0000  112.0\n",
       "365502  2.0  40.0    2.0000   46.0\n",
       "241194  4.0  28.0  143.0000   49.0"
      ]
     },
     "execution_count": 46,
     "metadata": {},
     "output_type": "execute_result"
    }
   ],
   "source": [
    "X_train2.head()"
   ]
  },
  {
   "cell_type": "code",
   "execution_count": 47,
   "metadata": {},
   "outputs": [
    {
     "data": {
      "text/plain": [
       "array(['Good'], dtype=object)"
      ]
     },
     "execution_count": 47,
     "metadata": {},
     "output_type": "execute_result"
    }
   ],
   "source": [
    "model.predict([[2.0,40.0,2.0,46]]) #correct prediction"
   ]
  },
  {
   "cell_type": "markdown",
   "metadata": {},
   "source": [
    "## Using Decision Tree Classifier\n"
   ]
  },
  {
   "cell_type": "code",
   "execution_count": 48,
   "metadata": {},
   "outputs": [],
   "source": [
    "from sklearn import tree"
   ]
  },
  {
   "cell_type": "code",
   "execution_count": 49,
   "metadata": {},
   "outputs": [],
   "source": [
    "model2 = tree.DecisionTreeClassifier()"
   ]
  },
  {
   "cell_type": "code",
   "execution_count": 50,
   "metadata": {},
   "outputs": [
    {
     "data": {
      "text/plain": [
       "DecisionTreeClassifier(class_weight=None, criterion='gini', max_depth=None,\n",
       "                       max_features=None, max_leaf_nodes=None,\n",
       "                       min_impurity_decrease=0.0, min_impurity_split=None,\n",
       "                       min_samples_leaf=1, min_samples_split=2,\n",
       "                       min_weight_fraction_leaf=0.0, presort=False,\n",
       "                       random_state=None, splitter='best')"
      ]
     },
     "execution_count": 50,
     "metadata": {},
     "output_type": "execute_result"
    }
   ],
   "source": [
    "model2.fit(X_train2,y_train2)"
   ]
  },
  {
   "cell_type": "code",
   "execution_count": 51,
   "metadata": {},
   "outputs": [
    {
     "data": {
      "text/plain": [
       "0.7168896826882913"
      ]
     },
     "execution_count": 51,
     "metadata": {},
     "output_type": "execute_result"
    }
   ],
   "source": [
    "model2.score(X_test2,y_test2) #high accuracy score of 71.68%"
   ]
  },
  {
   "cell_type": "code",
   "execution_count": 53,
   "metadata": {},
   "outputs": [
    {
     "data": {
      "text/plain": [
       "array(['Good'], dtype=object)"
      ]
     },
     "execution_count": 53,
     "metadata": {},
     "output_type": "execute_result"
    }
   ],
   "source": [
    "model2.predict([[2.0,40.0,2.0,46]]) # correct prediction"
   ]
  },
  {
   "cell_type": "markdown",
   "metadata": {},
   "source": []
  }
 ],
 "metadata": {
  "kernelspec": {
   "display_name": "Python 3",
   "language": "python",
   "name": "python3"
  },
  "language_info": {
   "codemirror_mode": {
    "name": "ipython",
    "version": 3
   },
   "file_extension": ".py",
   "mimetype": "text/x-python",
   "name": "python",
   "nbconvert_exporter": "python",
   "pygments_lexer": "ipython3",
   "version": "3.7.3"
  }
 },
 "nbformat": 4,
 "nbformat_minor": 2
}
